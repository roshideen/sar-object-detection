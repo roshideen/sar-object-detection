{
 "cells": [
  {
   "cell_type": "code",
   "execution_count": 3,
   "id": "c9426c13-9d96-4a5f-9c14-3ef2733a3c94",
   "metadata": {},
   "outputs": [],
   "source": [
    "import datetime\n",
    "import time\n",
    "from snappy import ProductIO,HashMap,GPF\n",
    "import os,gc\n",
    "import snappy\n",
    "from sentinelsat import SentinelAPI, geojson_to_wkt, read_geojson"
   ]
  },
  {
   "cell_type": "code",
   "execution_count": 4,
   "id": "dd3b8e52-01aa-41d6-a55b-965956fbf37a",
   "metadata": {},
   "outputs": [],
   "source": [
    "import glob\n",
    "import subprocess\n",
    "import jpy\n",
    "from zipfile import ZipFile\n",
    "from IPython.display import display\n",
    "import pandas as pd\n",
    "import cv2\n",
    "import numpy as np\n",
    "import matplotlib.pyplot as plt\n",
    "import seaborn as sns"
   ]
  },
  {
   "cell_type": "code",
   "execution_count": 5,
   "id": "cf5971a4-e9dd-4c48-b7b3-8b6728f2b91a",
   "metadata": {},
   "outputs": [],
   "source": [
    "%matplotlib qt"
   ]
  },
  {
   "cell_type": "code",
   "execution_count": 6,
   "id": "d46a2de4-c767-42d3-ba75-66fb54104c4f",
   "metadata": {},
   "outputs": [],
   "source": [
    "def get_subset_product(s1_read,x,y,width,height):\n",
    "    parameters = snappy.HashMap()\n",
    "    parameters.put('copyMetaData', True)\n",
    "    parameters.put('region','%s,%s,%s,%s'%(x,y,width,height))\n",
    "    subset = snappy.GPF.createProduct('Subset',parameters,s1_read)\n",
    "    return subset\n",
    "    band_sub = project2img(subset)\n",
    "    \n",
    "def do_terrain_correction(source, downsample:bool=False):\n",
    "    print('\\tTerrain correction...')\n",
    "    parameters = HashMap()\n",
    "    parameters.put('demName', 'GETASSE30')\n",
    "    parameters.put('sourceBands', 'Intensity_VH,Intensity_VV,Amplitude_VV,Amplitude_VH')\n",
    "    parameters.put('imgResamplingMethod', 'BILINEAR_INTERPOLATION')\n",
    "#     parameters.put('mapProjection', proj)       # comment this line if no need to convert to UTM/WGS84, default is WGS84\n",
    "    parameters.put('saveProjectedLocalIncidenceAngle', True)\n",
    "    parameters.put('saveSelectedSourceBand', True)\n",
    "    while downsample == 1:                      # downsample: 1 -- need downsample to 40m, 0 -- no need to downsample\n",
    "        parameters.put('pixelSpacingInMeter', 40.0)\n",
    "        break\n",
    "    output = GPF.createProduct('Terrain-Correction', parameters, source)\n",
    "    return output\n",
    "\n",
    "def convert_pixel2latlong_sentinel1(project,x,y):\n",
    "    geoPosType = jpy.get_type('org.esa.snap.core.datamodel.GeoPos')\n",
    "    geocoding = project.getSceneGeoCoding()\n",
    "    geo_pos = geocoding.getGeoPos(snappy.PixelPos(x,y),geoPosType())\n",
    "    return geo_pos.lat, geo_pos.lon\n",
    "\n",
    "def convert_latlong2pixel_sentinel1(project,lat,long):\n",
    "    geoPosType = jpy.get_type('org.esa.snap.core.datamodel.PixelPos')\n",
    "    geocoding = project.getSceneGeoCoding()\n",
    "    pix_pos = geocoding.getPixelPos(snappy.GeoPos(lat,long),geoPosType())\n",
    "    return pix_pos.getX(),pix_pos.getY()\n",
    "\n",
    "def project2img(project,band_name:str='Amplitude_VH',output_type:str='gray'):\n",
    "    if output_type == 'gray':\n",
    "        band = project.getBand(band_name)\n",
    "        w = band.getRasterWidth()\n",
    "        h = band.getRasterHeight()\n",
    "        band_data = np.zeros(w*h,np.float32)\n",
    "        band.readPixels(0,0,w,h,band_data)\n",
    "        band_data.shape = h,w\n",
    "    elif output_type == 'rgb':\n",
    "        \n",
    "        band_names = ['virtual_red', 'virtual_green', 'virtual_blue']\n",
    "        h,w = project.getSceneRasterHeight(),project.getSceneRasterWidth()\n",
    "        band_data = np.zeros((h,w,3),dtype=np.float32)\n",
    "        for i in range(3):\n",
    "            band1 = project.getBand(band_names[i])\n",
    "            w = band1.getRasterWidth()\n",
    "            h = band1.getRasterHeight()\n",
    "            band_data1 = np.zeros(w*h,np.float32)\n",
    "            band1.readPixels(0,0,w,h,band_data1)\n",
    "            band_data1.shape = h,w\n",
    "            band_data[:,:,i] = band_data1\n",
    "            \n",
    "    elif output_type == 'multiple':\n",
    "        def get_band(proeject,nm_band):\n",
    "            band1 = project.getBand(nm_band)\n",
    "            w = band1.getRasterWidth()\n",
    "            h = band1.getRasterHeight()\n",
    "            band_data1 = np.zeros(h*w,dtype=np.float32)\n",
    "            band1.readPixels(0,0,w,h,band_data1)\n",
    "            band_data1.shape = h,w\n",
    "            return band_data1,h,w\n",
    "                \n",
    "        band_names = ['Intensity_VV','Intensity_VH']        \n",
    "        for i in range(len(band_names)):\n",
    "            bandi,h,w = get_band(project,band_names[i])\n",
    "            if i == 0:\n",
    "                band_data = np.zeros((h,w,3),dtype=np.float64)           \n",
    "            band_data[:,:,i] = bandi\n",
    "        band_data[:,:,-1] = np.abs(band_data[:,:,0]*band_data[:,:,1])   \n",
    "#         print(np.max(band_data[:,:,-1]),2**32,2**64)\n",
    "    return band_data"
   ]
  },
  {
   "cell_type": "code",
   "execution_count": 7,
   "id": "828ee55b-a740-4646-8fa0-33fb864ab15c",
   "metadata": {},
   "outputs": [],
   "source": [
    "product_path = r'D:\\08 aimagin\\satellite image project\\sar'\n",
    "input_s1_files = sorted(list(glob.glob(os.path.join(product_path,'*S1*.zip'),recursive=True)))\n",
    "# input_s1_files = sorted(list(glob.glob(os.path.join(product_path,'*S1*.dim'),recursive=True)))\n",
    "# input_s1_files = sorted(list(glob.glob(os.path.join(product_path,'*_TC*.dim'),recursive=True)))"
   ]
  },
  {
   "cell_type": "code",
   "execution_count": 6,
   "id": "a1bf2170-ded8-4723-8071-2f6f0d89600d",
   "metadata": {},
   "outputs": [
    {
     "data": {
      "text/plain": [
       "['D:\\\\08 aimagin\\\\satellite image project\\\\sar\\\\S1A_IW_GRDH_1SDV_20200523T113602_20200523T113627_032692_03C963_BD84.zip',\n",
       " 'D:\\\\08 aimagin\\\\satellite image project\\\\sar\\\\S1A_IW_GRDH_1SDV_20200604T113603_20200604T113628_032867_03CE93_508B.zip',\n",
       " 'D:\\\\08 aimagin\\\\satellite image project\\\\sar\\\\S1A_IW_GRDH_1SDV_20210319T113605_20210319T113630_037067_045CF2_F741.zip',\n",
       " 'D:\\\\08 aimagin\\\\satellite image project\\\\sar\\\\S1A_IW_GRDH_1SDV_20210518T113608_20210518T113633_037942_047A5D_2ECE.zip',\n",
       " 'D:\\\\08 aimagin\\\\satellite image project\\\\sar\\\\S1A_IW_GRDH_1SDV_20210705T113611_20210705T113636_038642_048F4E_C9F7.zip']"
      ]
     },
     "execution_count": 6,
     "metadata": {},
     "output_type": "execute_result"
    }
   ],
   "source": [
    "input_s1_files"
   ]
  },
  {
   "cell_type": "code",
   "execution_count": 7,
   "id": "7301f981-39f8-4379-ba56-a2b76d27d27d",
   "metadata": {},
   "outputs": [
    {
     "data": {
      "text/plain": [
       "['D:\\\\08 aimagin\\\\satellite image project\\\\sar\\\\S1A_IW_GRDH_1SDV_20210705T113611_20210705T113636_038642_048F4E_C9F7.zip']"
      ]
     },
     "execution_count": 7,
     "metadata": {},
     "output_type": "execute_result"
    }
   ],
   "source": [
    "input_s1_files = [input_s1_files[-1]]\n",
    "input_s1_files"
   ]
  },
  {
   "cell_type": "code",
   "execution_count": 8,
   "id": "55fed11d-cac2-4b0b-ab91-b9e2a84506b9",
   "metadata": {},
   "outputs": [],
   "source": [
    "name, sensing_mode, product_type, polarization, height, width, band_names = ([] for i in range(7))"
   ]
  },
  {
   "cell_type": "code",
   "execution_count": 9,
   "id": "5594c92f-8014-4f5d-a426-c85b9da0cbf0",
   "metadata": {},
   "outputs": [
    {
     "name": "stdout",
     "output_type": "stream",
     "text": [
      "D:\\08 aimagin\\satellite image project\\sar\\S1A_IW_GRDH_1SDV_20210705T113611_20210705T113636_038642_048F4E_C9F7.zip\n"
     ]
    },
    {
     "data": {
      "text/html": [
       "<div>\n",
       "<style scoped>\n",
       "    .dataframe tbody tr th:only-of-type {\n",
       "        vertical-align: middle;\n",
       "    }\n",
       "\n",
       "    .dataframe tbody tr th {\n",
       "        vertical-align: top;\n",
       "    }\n",
       "\n",
       "    .dataframe thead th {\n",
       "        text-align: right;\n",
       "    }\n",
       "</style>\n",
       "<table border=\"1\" class=\"dataframe\">\n",
       "  <thead>\n",
       "    <tr style=\"text-align: right;\">\n",
       "      <th></th>\n",
       "      <th>Name</th>\n",
       "      <th>Sensing mode</th>\n",
       "      <th>Product type</th>\n",
       "      <th>Polarization</th>\n",
       "      <th>Height</th>\n",
       "      <th>Width</th>\n",
       "      <th>Band names</th>\n",
       "    </tr>\n",
       "  </thead>\n",
       "  <tbody>\n",
       "    <tr>\n",
       "      <th>0</th>\n",
       "      <td>S1A_IW_GRDH_1SDV_20210705T113611_20210705T1136...</td>\n",
       "      <td>1SDV</td>\n",
       "      <td>20210705T113611</td>\n",
       "      <td>1SDV</td>\n",
       "      <td>16793</td>\n",
       "      <td>25399</td>\n",
       "      <td>[Amplitude_VH, Intensity_VH, Amplitude_VV, Int...</td>\n",
       "    </tr>\n",
       "  </tbody>\n",
       "</table>\n",
       "</div>"
      ],
      "text/plain": [
       "                                                Name Sensing mode  \\\n",
       "0  S1A_IW_GRDH_1SDV_20210705T113611_20210705T1136...         1SDV   \n",
       "\n",
       "      Product type Polarization  Height  Width  \\\n",
       "0  20210705T113611         1SDV   16793  25399   \n",
       "\n",
       "                                          Band names  \n",
       "0  [Amplitude_VH, Intensity_VH, Amplitude_VV, Int...  "
      ]
     },
     "metadata": {},
     "output_type": "display_data"
    }
   ],
   "source": [
    "for i in input_s1_files:\n",
    "    if 'GRDH' not in i:\n",
    "        continue\n",
    "    print(i)\n",
    "    sensing_mode.append(i.split('_')[3])\n",
    "    product_type.append(i.split('_')[4])\n",
    "    polarization.append(i.split('_')[-6])\n",
    "    s1_read = snappy.ProductIO.readProduct(i)\n",
    "    name.append(s1_read.getName())\n",
    "    height.append(s1_read.getSceneRasterHeight())\n",
    "    width.append(s1_read.getSceneRasterWidth())\n",
    "    band_names.append(s1_read.getBandNames())\n",
    "    \n",
    "df_s1_read = pd.DataFrame({'Name':name,\n",
    "                          'Sensing mode':sensing_mode,\n",
    "                          'Product type':product_type,\n",
    "                          'Polarization':polarization,\n",
    "                          'Height':height,\n",
    "                          'Width':width,\n",
    "                          'Band names':band_names})\n",
    "display(df_s1_read)"
   ]
  },
  {
   "cell_type": "code",
   "execution_count": 105,
   "id": "9f1f8435-2555-4b54-9539-df22bdbbd9ac",
   "metadata": {},
   "outputs": [
    {
     "name": "stdout",
     "output_type": "stream",
     "text": [
      "\tTerrain correction...\n",
      "['Intensity_VH', 'Intensity_VV', 'Amplitude_VV', 'Amplitude_VH', 'projectedLocalIncidenceAngle']\n"
     ]
    }
   ],
   "source": [
    "x, y, width, height = 9500,100,5000,3000\n",
    "# x, y, width, height = 12000,16000,8000,4000 # coorected terrain\n",
    "\n",
    "subset = get_subset_product(s1_read,x,y,width,height)\n",
    "subset = do_terrain_correction(subset, downsample=False)\n",
    "band_sub = project2img(subset)\n",
    "\n",
    "print(list(subset.getBandNames()))"
   ]
  },
  {
   "cell_type": "code",
   "execution_count": 22,
   "id": "3e1d69c0-4618-4cd4-9305-dca8e5206037",
   "metadata": {},
   "outputs": [],
   "source": [
    "# band = subset.getBand('Intensity_VV')\n",
    "# band = subset.getBand('Intensity_VV')\n",
    "# w = band.getRasterWidth()\n",
    "# h = band.getRasterHeight()\n",
    "# band_data = np.zeros(w*h,np.float32)\n",
    "# band.readPixels(0,0,w,h,band_data)\n",
    "# band_data.shape = h,w\n",
    "# band_data_int_vv = band_data.copy()\n",
    "\n",
    "band_int_vv = project2img(subset,band_name='Intensity_VV')\n",
    "band_int_vh = project2img(subset,band_name='Intensity_VH')\n",
    "band_amp_vv = project2img(subset,band_name='Amplitude_VV')\n",
    "band_amp_vh = project2img(subset,band_name='Amplitude_VH')\n",
    "# band_ratio_int = np.where(band_int_vh==0,0,band_int_vv/band_int_vh)\n",
    "# band_ratio_amp = np.where(band_amp_vh==0,0,band_amp_vv/band_amp_vh)\n",
    "# band_ratio_amp = band_amp_vv/band_amp_vh"
   ]
  },
  {
   "cell_type": "code",
   "execution_count": 12,
   "id": "26491fe3-283f-42a7-a657-d13d762d0c5f",
   "metadata": {},
   "outputs": [],
   "source": [
    "from scipy.stats import mode"
   ]
  },
  {
   "cell_type": "code",
   "execution_count": 13,
   "id": "51a445a9-10f1-400e-ad02-faa97e144473",
   "metadata": {},
   "outputs": [],
   "source": [
    "def rescale28bit(img,bounds):\n",
    "    out = np.zeros_like(img).astype(np.uint8)\n",
    "    for i in range(img.shape[2]):\n",
    "        bound = bounds[i]\n",
    "        band = img[:,:,i]\n",
    "        bound_min,bound_max = bound\n",
    "        band = np.clip(band,bound_min,bound_max)\n",
    "        print(band.min(),band.max())\n",
    "        band = 255*(band-bound_min)/(bound_max-bound_min)\n",
    "        \n",
    "        out[:,:,i]=band\n",
    "    return out\n",
    "        "
   ]
  },
  {
   "cell_type": "markdown",
   "id": "a21ffe6d-8617-4f59-862d-b96d05a93d77",
   "metadata": {},
   "source": [
    "### dealing df_kanum"
   ]
  },
  {
   "cell_type": "code",
   "execution_count": 20,
   "id": "acd59ff6-671c-4fd0-8f87-552da4e0338f",
   "metadata": {},
   "outputs": [],
   "source": [
    "def find_status_demolition(args):\n",
    "    status = ['all','post','remaining','none']\n",
    "    try:\n",
    "        return status[np.where(args.notnull())[0][0]]\n",
    "    except:\n",
    "        return 'no-info'\n",
    "        \n",
    "\n",
    "def find_closest_distance(ix,df):\n",
    "    p1 = df[['pixel_x','pixel_y']].values[ix]\n",
    "    if (ix !=0) and (ix!=df.shape[0]-1):\n",
    "        p_all = np.vstack((df[['pixel_x','pixel_y']].values[0:ix],df[['pixel_x','pixel_y']].values[ix+1:]))\n",
    "        \n",
    "    elif ix == 0:\n",
    "        p_all = df[['pixel_x','pixel_y']].values[1:]\n",
    "    elif ix == df.shape[0]-1:\n",
    "        p_all = df[['pixel_x','pixel_y']].values[0:-1]\n",
    "    min_dist = np.sqrt(np.sum(np.abs(p1-p_all)**2,axis=1)).min()\n",
    "    argmin_dist = np.sqrt(np.sum(np.abs(p1-p_all)**2,axis=1)).argmin()\n",
    "    if (ix !=0) and (ix!=df.shape[0]-1):\n",
    "        if ix-argmin_dist>1:\n",
    "            argmin_dist+=0\n",
    "        else:\n",
    "            argmin_dist+=1\n",
    "    elif ix == 0:\n",
    "        argmin_dist+=1\n",
    "    elif ix == df.shape[0]-1:\n",
    "        argmin_dist = argmin_dist\n",
    "    return argmin_dist, min_dist\n",
    "\n",
    "def cal_pixel_under_area(img,w,h,x,y,iden):\n",
    "#     print(x,y)\n",
    "    x = int(x)\n",
    "    y=int(y)\n",
    "    sub_img = img[y-h:y+h,x-w:x+w]\n",
    "    return iden,img[y,x],np.mean(sub_img),np.max(sub_img),np.std(sub_img)\n",
    "\n",
    "class Formatter(object):\n",
    "    def __init__(self, im, project):\n",
    "        self.im = im\n",
    "        self.project = project\n",
    "    def __call__(self, x, y):\n",
    "        z = self.im.get_array()[int(y), int(x)]\n",
    "        lat, lon = convert_pixel2latlong_sentinel1(self.project,x,y)\n",
    "        return 'x={:.01f}, y={:.01f}, z={:.05f} || lat:{:.06f}, long:{:.06f}'.format(x, y, z,lat,lon)\n",
    "\n",
    "class FormatterScatter(object):\n",
    "    def __init__(self, im, df):\n",
    "        self.im = im\n",
    "        self.df = df\n",
    "    def __call__(self, x, y):\n",
    "        try:\n",
    "            pix_x = self.df[self.df['max_pix_xy']==x]['pixel_x'].values[0]\n",
    "            pix_y = self.df[self.df['max_pix_xy']==y]['pixel_y'].values[0]\n",
    "        except Exception as e:\n",
    "            pix_x,pix_y = 88888,88888\n",
    "        return 'max={:.01f}, mean={:.01f} \\n pix_x:{:.06f}, pix_y:{:.06f}'.format(x, y, pix_x,pix_y)\n",
    "    "
   ]
  },
  {
   "cell_type": "code",
   "execution_count": 16,
   "id": "8d6a20f1-da00-43c7-97d2-0ab14eae8a3f",
   "metadata": {},
   "outputs": [],
   "source": [
    "status = ['all','post','remaining','none']\n",
    "kanum_path = r'D:\\08 aimagin\\satellite image project\\sat\\coordinate_khanum'\n",
    "df_all = pd.DataFrame()\n",
    "countIdStart = 0\n",
    "status = ['all','post','remaining','none']\n",
    "for i in os.listdir(kanum_path):\n",
    "    if '_Data2' not in i:\n",
    "        continue\n",
    "    df = pd.read_csv(os.path.join(kanum_path,i))\n",
    "    df['from_file']=i\n",
    "    df['result_demolition_status'] = df[['result_demolition_all','result_demolition_post', 'result_demolition_remaining','result_demolition_none']].apply(lambda x:find_status_demolition(x),axis=1)\n",
    "#     df = df[df['result_demolition_none']=='Y']\n",
    "    countIdStop = countIdStart+df.shape[0]\n",
    "    rangeId = np.arange(countIdStart,countIdStop,1)\n",
    "    countIdStart=countIdStop\n",
    "    df['ID']=rangeId\n",
    "    df_all = pd.concat([df_all,df])"
   ]
  },
  {
   "cell_type": "code",
   "execution_count": 17,
   "id": "ae30dad2-99b3-43c2-a159-edb68b2c47fe",
   "metadata": {},
   "outputs": [
    {
     "name": "stdout",
     "output_type": "stream",
     "text": [
      "Kanchanadit_Data2.csv\n",
      "Muang_Data2.csv\n",
      "PunPin_Data2.csv\n",
      "Tachang_Data2.csv\n"
     ]
    }
   ],
   "source": [
    "band_sub_added1 = band_int_vv.copy()\n",
    "band_sub_added2 = band_int_vh.copy()\n",
    "# band_sub_added2 = band_amp_vv.copy()#threshed.copy()\n",
    "# band_sub_added = cv2.cvtColor(band_sub_added,cv2.COLOR_GRAY2RGB)\n",
    "for i0,df_allx in df_all.groupby('from_file'):\n",
    "#     if i0 != 'Tachang_Data2.csv':\n",
    "#         continue\n",
    "    print(i0)\n",
    "    for i in range(df_allx.shape[0]):\n",
    "        if df_allx['result_demolition_status'].iloc[i] != 'none':\n",
    "            continue\n",
    "        lat,long = df_allx['latitude'].iloc[i],df_allx['longitude'].iloc[i]\n",
    "        pixel_pos2 = convert_latlong2pixel_sentinel1(subset,lat,long)\n",
    "    #     print(lat,long)\n",
    "    #     band_sub_added = cv2.rectangle(band_sub_added,(int(pixel_pos2[0]),int(pixel_pos2[1])),(int(pixel_pos2[0]+20),int(pixel_pos2[1]-20)),(255,0,0),1)\n",
    "    #     band_sub_added = cv2.circle(band_sub_added,(int(pixel_pos2[0]),int(pixel_pos2[1])),10,(255,0,0),2)\n",
    "        band_sub_added1 = cv2.circle(band_sub_added1,(int(pixel_pos2[0]),int(pixel_pos2[1])),5,200000,1)\n",
    "        band_sub_added2 = cv2.circle(band_sub_added2,(int(pixel_pos2[0]),int(pixel_pos2[1])),5,100000,1)\n",
    "\n",
    "#     break"
   ]
  },
  {
   "cell_type": "code",
   "execution_count": 1182,
   "id": "d08caaea-4f53-41bc-8099-b47b09ecc68e",
   "metadata": {},
   "outputs": [],
   "source": [
    "# fig = plt.figure(figsize=(10,30))\n",
    "fig,ax = plt.subplots(nrows=1, ncols=2,figsize=(10,5))\n",
    "im1 = ax[0].imshow(band_sub_added1,cmap='gray',vmin=5000,vmax=100000)\n",
    "im2 = ax[1].imshow(band_sub_added2,cmap='gray',vmin=5000,vmax=100000)\n",
    "ax[0].format_coord = Formatter(im1,subset)\n",
    "ax[1].format_coord = Formatter(im2,subset)\n",
    "plt.show()\n",
    "# plt.imshow(band_sub_added,cmap='gray',vmin=5000,vmax=10000)"
   ]
  },
  {
   "cell_type": "code",
   "execution_count": 18,
   "id": "813b8e28-f26e-4d17-964a-334c2cebca58",
   "metadata": {},
   "outputs": [],
   "source": [
    "df_all['pixel_coordinate'] = df_all[['latitude','longitude']].apply(lambda x:convert_latlong2pixel_sentinel1(subset,*x),axis=1)\n",
    "df_all['pixel_x'] = df_all['pixel_coordinate'].apply(lambda x:x[0])\n",
    "df_all['pixel_y'] = df_all['pixel_coordinate'].apply(lambda x:x[1])"
   ]
  },
  {
   "cell_type": "code",
   "execution_count": 19,
   "id": "cd0075ad-91db-47e0-8d59-3ae9f4f5b036",
   "metadata": {},
   "outputs": [
    {
     "name": "stderr",
     "output_type": "stream",
     "text": [
      "C:\\Users\\rooshdee\\Anaconda3\\envs\\aimagin-sat\\lib\\site-packages\\pandas\\core\\indexing.py:670: SettingWithCopyWarning: \n",
      "A value is trying to be set on a copy of a slice from a DataFrame\n",
      "\n",
      "See the caveats in the documentation: https://pandas.pydata.org/pandas-docs/stable/user_guide/indexing.html#returning-a-view-versus-a-copy\n",
      "  iloc._setitem_with_indexer(indexer, value)\n"
     ]
    }
   ],
   "source": [
    "df_all.reset_index(drop=True,inplace=True)\n",
    "df_all['closest2point_index'] = 'kkk'\n",
    "df_all['closest2point_pixel'] = 'kkk'\n",
    "for i in range(df_all.shape[0]):\n",
    "    argmin_dist, min_dist = find_closest_distance(i,df_all)\n",
    "    df_all['closest2point_index'].iloc[i]=argmin_dist\n",
    "    df_all['closest2point_pixel'].iloc[i]=min_dist\n",
    "#     print(argmin_dist, min_dist)\n",
    "#     if i == 2:\n",
    "#         break\n",
    "    "
   ]
  },
  {
   "cell_type": "code",
   "execution_count": 843,
   "id": "d58cc883-e74a-4d2c-8762-921665dd8400",
   "metadata": {},
   "outputs": [],
   "source": [
    "# df_all[df_all['max_pix_xy'] == df_all['max_pix_xy'].min()][['from_file','latitude','longitude','pixel_x','pixel_y','closest2point_index','closest2point_pixel']]"
   ]
  },
  {
   "cell_type": "code",
   "execution_count": 857,
   "id": "0bd0c528-ea44-46b2-8406-76603fd4ab05",
   "metadata": {},
   "outputs": [],
   "source": [
    "# df_all[df_all['closest2point_pixel']<4][['from_file','latitude','longitude','pixel_x','pixel_y','closest2point_index','closest2point_pixel','result_demolition_status']]"
   ]
  },
  {
   "cell_type": "code",
   "execution_count": 858,
   "id": "f4c61427-90d3-43a0-b1a2-66d4afc19311",
   "metadata": {},
   "outputs": [],
   "source": [
    "# plt.figure()\n",
    "# plt.hist(df_all['closest2point_pixel'],range=(0,20))"
   ]
  },
  {
   "cell_type": "code",
   "execution_count": 40,
   "id": "d9af4485-32c9-46f4-a214-c1b8c3ea7296",
   "metadata": {},
   "outputs": [],
   "source": [
    "def get_stat_kanum_area(df,bands_val,bands_name,w,h,suffix:str='none'):\n",
    "    if suffix == 'none':\n",
    "        bands_name = bands_name\n",
    "        x_col,y_col = 'pixel_x','pixel_y'\n",
    "    else:\n",
    "        bands_name = [i+'_'+suffix for i in bands_name]\n",
    "        x_col,y_col = 'pixel_x_'+suffix,'pixel_y_'+suffix\n",
    "    for i,j in zip(bands_val,bands_name):\n",
    "        df['value_at_xy_'+j]=df[[x_col,y_col,'ID']].apply(lambda x: cal_pixel_under_area(i,w,h,*x),axis=1)\n",
    "        df['val_pix_xy_'+j] = df['value_at_xy_'+j].apply(lambda x:x[1])\n",
    "        df['mean_pix_xy_'+j] = df['value_at_xy_'+j].apply(lambda x:x[2])\n",
    "        df['max_pix_xy_'+j] = df['value_at_xy_'+j].apply(lambda x:x[3])\n",
    "        df['std_pix_xy_'+j] = df['value_at_xy_'+j].apply(lambda x:x[4])\n",
    "        del df['value_at_xy_'+j]\n",
    "    return df\n",
    "    \n",
    "    "
   ]
  },
  {
   "cell_type": "code",
   "execution_count": 73,
   "id": "9ac56815-60af-4a6e-9da2-7aa73bf4a358",
   "metadata": {},
   "outputs": [],
   "source": [
    "w, h = 5, 5\n",
    "band_int_vv_norm = np.where(band_int_vv==0,0,(band_int_vv-band_int_vv.min())/(band_int_vv.max()-band_int_vv.min()))\n",
    "band_int_vh_norm = np.where(band_int_vh==0,0,(band_int_vh-band_int_vh.min())/(band_int_vh.max()-band_int_vh.min()))\n",
    "band_amp_vv_norm = np.where(band_amp_vv==0,0,(band_amp_vv-band_amp_vv.min())/(band_amp_vv.max()-band_amp_vv.min()))\n",
    "band_amp_vh_norm = np.where(band_amp_vh==0,0,(band_amp_vh-band_amp_vh.min())/(band_amp_vh.max()-band_amp_vh.min()))\n",
    "\n",
    "# bands_val = [band_int_vv,band_int_vh,band_amp_vv,band_amp_vh]\n",
    "bands_val = [band_int_vv_norm,band_int_vh_norm,band_amp_vv_norm,band_amp_vh_norm]\n",
    "bands_name = ['int_vv','int_vh','amp_vv','amp_vh']\n",
    "df_all = get_stat_kanum_area(df_all,bands_val,bands_name,w,h,suffix = 'none')\n",
    "# for i,j in zip(bands_val,bands_name):\n",
    "#     df_all['value_at_xy_'+j]=df_all[['pixel_x','pixel_y','ID']].apply(lambda x: cal_pixel_under_area(i,w,h,*x),axis=1)\n",
    "#     df_all['val_pix_xy_'+j] = df_all['value_at_xy_'+j].apply(lambda x:x[1])\n",
    "#     df_all['mean_pix_xy_'+j] = df_all['value_at_xy_'+j].apply(lambda x:x[2])\n",
    "#     df_all['max_pix_xy_'+j] = df_all['value_at_xy_'+j].apply(lambda x:x[3])\n",
    "#     df_all['std_pix_xy_'+j] = df_all['value_at_xy_'+j].apply(lambda x:x[4])\n",
    "#     del df_all['value_at_xy_'+j]"
   ]
  },
  {
   "cell_type": "code",
   "execution_count": 1185,
   "id": "a06c754b-1d43-4e1e-a16c-f25f163f7d4e",
   "metadata": {},
   "outputs": [],
   "source": [
    "%matplotlib inline"
   ]
  },
  {
   "cell_type": "code",
   "execution_count": 74,
   "id": "2667fcef-d5d5-414a-8fb2-d3df6ad0f302",
   "metadata": {},
   "outputs": [],
   "source": [
    "fig = plt.figure(figsize=(16,16))\n",
    "plots = ['val_pix_xy_int_vv', 'mean_pix_xy_int_vv','max_pix_xy_int_vv','std_pix_xy_int_vv', \n",
    "         'val_pix_xy_int_vh', 'mean_pix_xy_int_vh','max_pix_xy_int_vh','std_pix_xy_int_vh', \n",
    "         'val_pix_xy_amp_vv', 'mean_pix_xy_amp_vv','max_pix_xy_amp_vv','std_pix_xy_amp_vv', \n",
    "         'val_pix_xy_amp_vh', 'mean_pix_xy_amp_vh','max_pix_xy_amp_vh','std_pix_xy_amp_vh'\n",
    "        ]\n",
    "for i in range(len(plots)):\n",
    "    fig.add_subplot(4,4,i+1)\n",
    "    sns.boxplot(x ='result_demolition_status' ,y = plots[i],data = df_all)"
   ]
  },
  {
   "cell_type": "code",
   "execution_count": null,
   "id": "5808dc4d-6976-49de-b3f1-fdb97d2c98f2",
   "metadata": {},
   "outputs": [],
   "source": []
  },
  {
   "cell_type": "code",
   "execution_count": null,
   "id": "e31a05e7-de3d-46c3-b325-43b8f6c8d9d2",
   "metadata": {},
   "outputs": [],
   "source": []
  },
  {
   "cell_type": "code",
   "execution_count": 575,
   "id": "f5f38851-0b12-40a8-bc2a-f0a5bbab7c0e",
   "metadata": {},
   "outputs": [],
   "source": [
    "fig,ax = plt.subplots()\n",
    "im1 = ax.scatter(df_all['max_pix_xy'],df_all['mean_pix_xy'])\n",
    "ax.format_coord = FormatterScatter(im1,df_all)\n",
    "plt.show()"
   ]
  },
  {
   "cell_type": "code",
   "execution_count": 27,
   "id": "4403cbd5-9ed6-4a1b-a84d-66610ef905b3",
   "metadata": {},
   "outputs": [],
   "source": [
    "df_all.to_csv(os.path.join(kanum_path,'processed_kanchanadit-muang-punpin-tachang_รวมทุกdemolition-status.csv'))"
   ]
  },
  {
   "cell_type": "code",
   "execution_count": null,
   "id": "58c604a6-8110-4133-8a5c-7559c94ef732",
   "metadata": {},
   "outputs": [],
   "source": []
  },
  {
   "cell_type": "code",
   "execution_count": 964,
   "id": "bca69b77-ec9b-42bd-9ec7-1fb6af5e5226",
   "metadata": {},
   "outputs": [],
   "source": []
  },
  {
   "cell_type": "code",
   "execution_count": 895,
   "id": "a24c3b21-da0c-47c3-9dbe-5da323b50917",
   "metadata": {},
   "outputs": [],
   "source": [
    "%matplotlib qt"
   ]
  },
  {
   "cell_type": "code",
   "execution_count": 965,
   "id": "33bf4576-60c4-4a30-a8ba-ccb427092947",
   "metadata": {},
   "outputs": [
    {
     "data": {
      "text/plain": [
       "<matplotlib.image.AxesImage at 0x2b2328a3cf8>"
      ]
     },
     "execution_count": 965,
     "metadata": {},
     "output_type": "execute_result"
    }
   ],
   "source": [
    "plt.figure()\n",
    "plt.imshow(band_closed,cmap='gray')"
   ]
  },
  {
   "cell_type": "code",
   "execution_count": 47,
   "id": "be500f68-04f6-4029-9d4a-930268225e97",
   "metadata": {},
   "outputs": [],
   "source": [
    "def get_mapping_coordinate_label(img,x,y,w,h,diff):\n",
    "    tmp = img[y-w:y+w,x-w:x+w].copy()   \n",
    "    x0,y0 = x-w,y-h\n",
    "    tmp = (((tmp-tmp.min())/(tmp.max()-tmp.min()))*255).astype(np.uint8)\n",
    "    _, thresh = cv2.threshold(tmp, 0, 255,cv2.THRESH_BINARY | cv2.THRESH_OTSU)\n",
    "    mask = cv2.findContours(thresh,cv2.RETR_EXTERNAL,cv2.CHAIN_APPROX_NONE)[0]\n",
    "    assert len(mask[0] == 1)\n",
    "    xi,yi,wi,hi = cv2.boundingRect(mask[0])\n",
    "    return (x0+xi-diff,y0+yi-diff),(x0+xi+wi+diff,y0+yi+hi+diff)\n",
    "\n",
    "def find_distance_2pnts(a,b):\n",
    "    (x1,y1),(x2,y2) = a,b\n",
    "    return np.sqrt(np.sum([(x1-x2)**2,(y1-y2)**2]))\n",
    "\n",
    "def check_if_kanumcoord_at_center(img,x_tmp,y_tmp,w,h,thr):\n",
    "    \n",
    "    \n",
    "    tmp = img[y_tmp-w:y_tmp+w,x_tmp-w:x_tmp+w].copy()\n",
    "    ym,xm = np.where(tmp==tmp.max())\n",
    "    xm,ym = xm[0],ym[0]\n",
    "    xc,yc = tmp.shape[0]*0.5,tmp.shape[0]*0.5\n",
    "    d1 = find_distance_2pnts((xm,ym),(0,0))\n",
    "    d2 = find_distance_2pnts((xm,ym),(tmp.shape))\n",
    "    if np.abs(d2-d1)/tmp.shape[0] > thr:\n",
    "        x_return, y_return = (int(x_tmp-(xc-xm)),int(y_tmp-(yc-ym)))\n",
    "    else:\n",
    "        x_return, y_return = (x_tmp,y_tmp)\n",
    "    return (x_return, y_return)\n",
    "    \n",
    "    "
   ]
  },
  {
   "cell_type": "code",
   "execution_count": 1276,
   "id": "46b9cc29-ebeb-4631-91d7-1dc7c9be14a3",
   "metadata": {},
   "outputs": [],
   "source": [
    "%matplotlib qt"
   ]
  },
  {
   "cell_type": "code",
   "execution_count": 65,
   "id": "50fa8834-0e5d-40ef-b609-6f9ce91adbe9",
   "metadata": {},
   "outputs": [
    {
     "name": "stderr",
     "output_type": "stream",
     "text": [
      "C:\\Users\\rooshdee\\Anaconda3\\envs\\aimagin-sat\\lib\\site-packages\\pandas\\core\\indexing.py:670: SettingWithCopyWarning: \n",
      "A value is trying to be set on a copy of a slice from a DataFrame\n",
      "\n",
      "See the caveats in the documentation: https://pandas.pydata.org/pandas-docs/stable/user_guide/indexing.html#returning-a-view-versus-a-copy\n",
      "  iloc._setitem_with_indexer(indexer, value)\n"
     ]
    }
   ],
   "source": [
    "w, h = 5,5\n",
    "diff = 3\n",
    "thr = 0.2\n",
    "img_tmp2 = band_int_vv.copy()\n",
    "img_tmp3 = band_int_vv.copy()\n",
    "df_all['pixel_x_new']=999\n",
    "df_all['pixel_y_new']=999\n",
    "for i in range(df_all.shape[0]):\n",
    "#     if df_all['result_demolition_status'].iloc[i] != 'none':\n",
    "#         continue\n",
    "    x_tmp0,y_tmp0 = df_all[['pixel_x','pixel_y']].iloc[i].values\n",
    "    x_tmp0, y_tmp0 = int(x_tmp0), int(y_tmp0)\n",
    "    x_tmp, y_tmp = check_if_kanumcoord_at_center(band_int_vv,x_tmp0,y_tmp0,w,h,thr)\n",
    "    a,b = get_mapping_coordinate_label(band_int_vv,x_tmp,y_tmp,w,h,diff)\n",
    "#     df_all['pixel_coordinate_new'].iloc[i] = (x_tmp,y_tmp)\n",
    "    df_all['pixel_x_new'].iloc[i] = x_tmp\n",
    "    df_all['pixel_y_new'].iloc[i] = y_tmp\n",
    "    \n",
    "    img_tmp2 = cv2.rectangle(img_tmp2,(x_tmp0-w,y_tmp0-h),(x_tmp0+w,y_tmp0+h),1e5,1)\n",
    "    img_tmp3 = cv2.rectangle(img_tmp3,a,b,1e5,1)\n",
    "    \n",
    "fig,ax = plt.subplots(1,2)\n",
    "# fig.add_subplot(1,2,1)\n",
    "im1 = ax[0].imshow(img_tmp2,cmap='gray',vmin=5000,vmax=1e5)\n",
    "# fig.add_subplot(1,2,2)\n",
    "im2 = ax[1].imshow(img_tmp3,cmap='gray',vmin=5000,vmax=1e5)\n",
    "ax[0].format_coord = Formatter(im1,subset)\n",
    "ax[1].format_coord = Formatter(im2,subset)"
   ]
  },
  {
   "cell_type": "code",
   "execution_count": 66,
   "id": "21cfffe8-8309-40ca-b291-ed93e9bb7995",
   "metadata": {},
   "outputs": [],
   "source": [
    "df_all = get_stat_kanum_area(df_all,bands_val,bands_name,w,h,suffix = 'new')"
   ]
  },
  {
   "cell_type": "code",
   "execution_count": 44,
   "id": "42f27a5f-d35f-44b4-b845-449c01d47e51",
   "metadata": {},
   "outputs": [],
   "source": [
    "fig = plt.figure(figsize=(16,16))\n",
    "plots = ['val_pix_xy_int_vv_new', 'mean_pix_xy_int_vv_new','max_pix_xy_int_vv_new','std_pix_xy_int_vv_new', \n",
    "         'val_pix_xy_int_vh', 'mean_pix_xy_int_vh','max_pix_xy_int_vh_new','std_pix_xy_int_vh_new', \n",
    "         'val_pix_xy_amp_vv', 'mean_pix_xy_amp_vv','max_pix_xy_amp_vv_new','std_pix_xy_amp_vv_new', \n",
    "         'val_pix_xy_amp_vh_new', 'mean_pix_xy_amp_vh_new','max_pix_xy_amp_vh_new','std_pix_xy_amp_vh_new'\n",
    "        ]\n",
    "for i in range(len(plots)):\n",
    "    fig.add_subplot(4,4,i+1)\n",
    "    sns.boxplot(x ='result_demolition_status' ,y = plots[i],data = df_all)"
   ]
  },
  {
   "cell_type": "code",
   "execution_count": null,
   "id": "50ed493f-59f8-4d56-b30c-7d51b183e837",
   "metadata": {},
   "outputs": [],
   "source": []
  },
  {
   "cell_type": "code",
   "execution_count": 67,
   "id": "2e90bf4c-390c-471c-94f2-fd11a061110c",
   "metadata": {},
   "outputs": [],
   "source": [
    "df_all['pixel_coordinate_new'] = df_all[['pixel_x_new','pixel_y_new']].apply(lambda x: (x[0],x[1]),axis=1)\n",
    "df_all['check_difference_new_old_kanum_coordinate'] = \\\n",
    "df_all[['pixel_x','pixel_y','pixel_x_new','pixel_y_new']].apply(lambda x: find_distance_2pnts((x[0],x[1]),(x[2],x[3])),axis=1)"
   ]
  },
  {
   "cell_type": "code",
   "execution_count": 71,
   "id": "f69e3623-17b1-4999-898a-c6193205d125",
   "metadata": {},
   "outputs": [
    {
     "data": {
      "text/plain": [
       "2.77266562517328"
      ]
     },
     "execution_count": 71,
     "metadata": {},
     "output_type": "execute_result"
    }
   ],
   "source": [
    "df_all['check_difference_new_old_kanum_coordinate'].mean()"
   ]
  },
  {
   "cell_type": "code",
   "execution_count": 69,
   "id": "49d13dfc-4111-47e1-a48b-1307c5eff18f",
   "metadata": {},
   "outputs": [
    {
     "data": {
      "text/html": [
       "<div>\n",
       "<style scoped>\n",
       "    .dataframe tbody tr th:only-of-type {\n",
       "        vertical-align: middle;\n",
       "    }\n",
       "\n",
       "    .dataframe tbody tr th {\n",
       "        vertical-align: top;\n",
       "    }\n",
       "\n",
       "    .dataframe thead th {\n",
       "        text-align: right;\n",
       "    }\n",
       "</style>\n",
       "<table border=\"1\" class=\"dataframe\">\n",
       "  <thead>\n",
       "    <tr style=\"text-align: right;\">\n",
       "      <th></th>\n",
       "      <th>pixel_x</th>\n",
       "      <th>pixel_y</th>\n",
       "      <th>pixel_x_new</th>\n",
       "      <th>pixel_y_new</th>\n",
       "    </tr>\n",
       "  </thead>\n",
       "  <tbody>\n",
       "    <tr>\n",
       "      <th>0</th>\n",
       "      <td>2963.805600</td>\n",
       "      <td>2618.304326</td>\n",
       "      <td>2961</td>\n",
       "      <td>2622</td>\n",
       "    </tr>\n",
       "    <tr>\n",
       "      <th>1</th>\n",
       "      <td>2927.008324</td>\n",
       "      <td>2715.090439</td>\n",
       "      <td>2927</td>\n",
       "      <td>2715</td>\n",
       "    </tr>\n",
       "    <tr>\n",
       "      <th>2</th>\n",
       "      <td>3414.031096</td>\n",
       "      <td>2845.890841</td>\n",
       "      <td>3414</td>\n",
       "      <td>2845</td>\n",
       "    </tr>\n",
       "    <tr>\n",
       "      <th>3</th>\n",
       "      <td>3394.550185</td>\n",
       "      <td>2833.522009</td>\n",
       "      <td>3397</td>\n",
       "      <td>2828</td>\n",
       "    </tr>\n",
       "    <tr>\n",
       "      <th>4</th>\n",
       "      <td>3388.984211</td>\n",
       "      <td>2850.219932</td>\n",
       "      <td>3388</td>\n",
       "      <td>2848</td>\n",
       "    </tr>\n",
       "  </tbody>\n",
       "</table>\n",
       "</div>"
      ],
      "text/plain": [
       "       pixel_x      pixel_y  pixel_x_new  pixel_y_new\n",
       "0  2963.805600  2618.304326         2961         2622\n",
       "1  2927.008324  2715.090439         2927         2715\n",
       "2  3414.031096  2845.890841         3414         2845\n",
       "3  3394.550185  2833.522009         3397         2828\n",
       "4  3388.984211  2850.219932         3388         2848"
      ]
     },
     "execution_count": 69,
     "metadata": {},
     "output_type": "execute_result"
    }
   ],
   "source": [
    "df_all[['pixel_x','pixel_y','pixel_x_new','pixel_y_new']].head()"
   ]
  },
  {
   "cell_type": "code",
   "execution_count": 84,
   "id": "ca4dbcdd-b435-4c04-bb28-a2cb9066aa92",
   "metadata": {},
   "outputs": [
    {
     "data": {
      "text/plain": [
       "(array([194.,  27.,   7.,   2.,   2.,   1.,   2.,   0.,   0.,   2.]),\n",
       " array([ 287.53756714,  882.27814636, 1477.01872559, 2071.75930481,\n",
       "        2666.49988403, 3261.24046326, 3855.98104248, 4450.7216217 ,\n",
       "        5045.46220093, 5640.20278015, 6234.94335938]),\n",
       " <BarContainer object of 10 artists>)"
      ]
     },
     "execution_count": 84,
     "metadata": {},
     "output_type": "execute_result"
    }
   ],
   "source": [
    "plt.hist(df_all[df_all['result_demolition_status']=='none']['std_pix_xy_int_vh_new'])"
   ]
  },
  {
   "cell_type": "code",
   "execution_count": 88,
   "id": "95cab2eb-c36b-4d50-ba92-1317f3a11480",
   "metadata": {},
   "outputs": [],
   "source": [
    "# dfx = df_all.groupby('result_demolition_status').get_group('none')\n",
    "# dfx[dfx['std_pix_xy_int_vh_new']>500][['from_file','latitude','longitude']]"
   ]
  },
  {
   "cell_type": "code",
   "execution_count": null,
   "id": "f0261c51-1a58-47ee-b6a8-d642c5fd7ac4",
   "metadata": {},
   "outputs": [],
   "source": []
  },
  {
   "cell_type": "code",
   "execution_count": null,
   "id": "2b706ca2-c98d-4fb6-822a-c64856a8fac7",
   "metadata": {},
   "outputs": [],
   "source": []
  },
  {
   "cell_type": "code",
   "execution_count": null,
   "id": "7e22284e-d31d-48ee-8ea7-57cea4362092",
   "metadata": {},
   "outputs": [],
   "source": []
  },
  {
   "cell_type": "code",
   "execution_count": null,
   "id": "737d06f6-d1ad-4161-8c1d-50bc8772b83a",
   "metadata": {},
   "outputs": [],
   "source": []
  },
  {
   "cell_type": "markdown",
   "id": "e7c782ad-4623-44be-aa7d-f90566567643",
   "metadata": {},
   "source": [
    "## เจ้าท่า"
   ]
  },
  {
   "cell_type": "code",
   "execution_count": 661,
   "id": "edf0f00c-0e45-45f7-bd96-6e98215cdb16",
   "metadata": {},
   "outputs": [],
   "source": [
    "fl_excel = 'จำนวนคดี-สภ.ท่าฉาง+การสำรวจ+ขนำ 89 ขนำ'\n",
    "xl = pd.ExcelFile(os.path.join(kanum_path,fl_excel+'.xlsx'), engine='openpyxl')"
   ]
  },
  {
   "cell_type": "code",
   "execution_count": 715,
   "id": "9aacd413-1a96-4c36-b1ea-84b628c4c1c1",
   "metadata": {},
   "outputs": [],
   "source": [
    "df_jaota = pd.DataFrame()\n",
    "count=0\n",
    "for i in xl.sheet_names:\n",
    "    tmp = xl.parse(i,header=1)\n",
    "    tmp['from_file'] = i\n",
    "    tmp = tmp[tmp['พิกัด (ทศนิยม)'].notnull()]\n",
    "    count+=tmp.shape[0]\n",
    "    df_jaota = pd.concat([df_jaota,tmp])\n",
    "df_jaota.to_csv(os.path.join(kanum_path,'จำนวนคดี-สภ.ท่าฉาง+การสำรวจ+ขนำ 89 ขนำ.csv'))"
   ]
  },
  {
   "cell_type": "code",
   "execution_count": 740,
   "id": "fc91d59a-086b-4708-8806-5268e38ed9db",
   "metadata": {},
   "outputs": [],
   "source": [
    "df_jaota['latitude'] = df_jaota['พิกัด (ทศนิยม)'].apply(lambda x: float(x.split(', ')[0]))\n",
    "df_jaota['longitude'] = df_jaota['พิกัด (ทศนิยม)'].apply(lambda x: float(x.split(', ')[1]))\n",
    "df_jaota['pixel_xy'] = df_jaota[['latitude','longitude']].apply(lambda x: convert_latlong2pixel_sentinel1(subset,*x),axis=1)\n",
    "df_jaota['pixel_x'] = df_jaota['pixel_xy'].apply(lambda x: x[0])\n",
    "df_jaota['pixel_y'] = df_jaota['pixel_xy'].apply(lambda x: x[1])"
   ]
  },
  {
   "cell_type": "code",
   "execution_count": 743,
   "id": "1b6bd0c2-b061-49d8-9931-b137c4c821ee",
   "metadata": {},
   "outputs": [],
   "source": [
    "def find_kanum_distance_sornchon_and_jaota(p1,dfx):\n",
    "    p_all = dfx[['pixel_x','pixel_y']].values\n",
    "    min_dist = np.sqrt(np.sum(np.abs(p1-p_all)**2,axis=1)).min()\n",
    "    argmin_dist = np.sqrt(np.sum(np.abs(p1-p_all)**2,axis=1)).argmin()\n",
    "    return argmin_dist,min_dist"
   ]
  },
  {
   "cell_type": "code",
   "execution_count": 1113,
   "id": "ce3b3677-0139-4b83-9f86-a804d95dc506",
   "metadata": {},
   "outputs": [
    {
     "name": "stderr",
     "output_type": "stream",
     "text": [
      "C:\\Users\\rooshdee\\Anaconda3\\envs\\aimagin-sat\\lib\\site-packages\\pandas\\core\\indexing.py:670: SettingWithCopyWarning: \n",
      "A value is trying to be set on a copy of a slice from a DataFrame\n",
      "\n",
      "See the caveats in the documentation: https://pandas.pydata.org/pandas-docs/stable/user_guide/indexing.html#returning-a-view-versus-a-copy\n",
      "  iloc._setitem_with_indexer(indexer, value)\n"
     ]
    }
   ],
   "source": [
    "df_all['closestwithjaota_index'] = 999\n",
    "df_all['closestwithjaota_pixel'] = 999\n",
    "df_all['pixel_x_jaota'] = 999\n",
    "df_all['pixel_y_jaota'] = 999\n",
    "df_all['latitude_jaota'] = 999\n",
    "df_all['longitude_jaota'] = 999\n",
    "\n",
    "for i in range(df_all.shape[0]):\n",
    "    xi = df_all[['pixel_x','pixel_y']].values[i]\n",
    "    argmin_dist,min_dist = find_kanum_distance_sornchon_and_jaota(xi,df_jaota)\n",
    "    df_all['closestwithjaota_index'].iloc[i] = argmin_dist\n",
    "    df_all['closestwithjaota_pixel'].iloc[i] = min_dist\n",
    "    df_all['pixel_x_jaota'].iloc[i] = df_jaota['pixel_x'].iloc[argmin_dist]\n",
    "    df_all['pixel_y_jaota'].iloc[i] = df_jaota['pixel_y'].iloc[argmin_dist]\n",
    "    df_all['latitude_jaota'].iloc[i] = df_jaota['latitude'].iloc[argmin_dist]\n",
    "    df_all['longitude_jaota'].iloc[i] = df_jaota['longitude'].iloc[argmin_dist]\n",
    "    \n",
    "#     break"
   ]
  },
  {
   "cell_type": "code",
   "execution_count": 773,
   "id": "08028dc6-84cf-4d28-b3ba-ace607886846",
   "metadata": {},
   "outputs": [],
   "source": [
    "# df_jaota.head()"
   ]
  },
  {
   "cell_type": "code",
   "execution_count": 89,
   "id": "e4f7581c-89d4-484d-bfe4-76759c9928a4",
   "metadata": {},
   "outputs": [],
   "source": [
    "# df_all[df_all['closest2point_pixel']<4].sort_values(by = ['closestwithjaota_pixel'])[['from_file','pixel_x','pixel_y','closest2point_index','closest2point_pixel','pixel_x_jaota','pixel_y_jaota',\n",
    "#                              'result_demolition_status','latitude_jaota','longitude_jaota', 'closestwithjaota_pixel','closestwithjaota_index']]"
   ]
  },
  {
   "cell_type": "code",
   "execution_count": 1120,
   "id": "a6b966e5-98ce-408f-b535-b7befcb5bc7f",
   "metadata": {},
   "outputs": [],
   "source": [
    "# df_all[df_all['from_file']=='Tachang_Data2.csv']"
   ]
  },
  {
   "cell_type": "code",
   "execution_count": null,
   "id": "b48db8a0-c2c1-4a0d-9d25-50e33bede75b",
   "metadata": {},
   "outputs": [],
   "source": []
  },
  {
   "cell_type": "markdown",
   "id": "66714037-d5a1-47f6-8c05-717ef4349e93",
   "metadata": {},
   "source": [
    "# water masking"
   ]
  },
  {
   "cell_type": "code",
   "execution_count": 8,
   "id": "20771eed-609e-423c-935b-0eb14933735e",
   "metadata": {},
   "outputs": [],
   "source": [
    "def do_apply_orbit_file(source):\n",
    "    print('\\tApply orbit file...')\n",
    "    parameters = HashMap()\n",
    "    parameters.put('Apply-Orbit-File', True)\n",
    "    output = GPF.createProduct('Apply-Orbit-File', parameters, source)\n",
    "    return output\n",
    "def do_thermal_noise_removal(source):\n",
    "    print('\\tThermal noise removal...')\n",
    "    parameters = HashMap()\n",
    "    parameters.put('removeThermalNoise', True)\n",
    "    output = GPF.createProduct('ThermalNoiseRemoval', parameters, source)\n",
    "    return output\n",
    "def do_calibration(source, polarization, pols):\n",
    "    print('\\tCalibration...')\n",
    "    parameters = HashMap()\n",
    "    parameters.put('outputSigmaBand', True)\n",
    "    if polarization == 'DH':\n",
    "        parameters.put('sourceBands', 'Intensity_HH,Intensity_HV')\n",
    "    elif polarization == 'DV':\n",
    "        parameters.put('sourceBands', 'Intensity_VH,Intensity_VV')\n",
    "    elif polarization == 'SH' or polarization == 'HH':\n",
    "        parameters.put('sourceBands', 'Intensity_HH')\n",
    "    elif polarization == 'SV':\n",
    "        parameters.put('sourceBands', 'Intensity_VV')\n",
    "    else:\n",
    "        print(\"different polarization!\")\n",
    "    parameters.put('selectedPolarisations', pols)\n",
    "    parameters.put('outputImageScaleInDb', False)\n",
    "    output = GPF.createProduct(\"Calibration\", parameters, source)\n",
    "    return output\n",
    "def do_speckle_filtering(source):\n",
    "    print('\\tSpeckle filtering...')\n",
    "    parameters = HashMap()\n",
    "    parameters.put('filter', 'Lee')\n",
    "    parameters.put('filterSizeX', 3)\n",
    "    parameters.put('filterSizeY', 3)\n",
    "    output = GPF.createProduct('Speckle-Filter', parameters, source)\n",
    "    return output\n",
    "def do_terrain_correction(source,band_nm, downsample:bool=False):\n",
    "    print('\\tTerrain correction...')\n",
    "    parameters = HashMap()\n",
    "    parameters.put('demName', 'GETASSE30')\n",
    "    parameters.put('sourceBands', band_nm)\n",
    "    parameters.put('imgResamplingMethod', 'BILINEAR_INTERPOLATION')\n",
    "#     parameters.put('mapProjection', proj)       # comment this line if no need to convert to UTM/WGS84, default is WGS84\n",
    "    parameters.put('saveProjectedLocalIncidenceAngle', True)\n",
    "    parameters.put('saveSelectedSourceBand', True)\n",
    "    while downsample == 1:                      # downsample: 1 -- need downsample to 40m, 0 -- no need to downsample\n",
    "        parameters.put('pixelSpacingInMeter', 40.0)\n",
    "        break\n",
    "    output = GPF.createProduct('Terrain-Correction', parameters, source)\n",
    "    return output\n",
    "\n",
    "def get_band_names(project):\n",
    "    band_nm = ''\n",
    "    for i in list(project.getBandNames()):\n",
    "        if i != len(list(project.getBandNames())):\n",
    "            band_nm += i+','\n",
    "        else:\n",
    "            band_nm += i\n",
    "    return band_nm"
   ]
  },
  {
   "cell_type": "code",
   "execution_count": 9,
   "id": "d627db4b-a62e-4aed-85fa-1df5291a0ed5",
   "metadata": {},
   "outputs": [],
   "source": [
    "product_path = r'D:\\08 aimagin\\satellite image project\\sar'\n",
    "input_s1_files = sorted(list(glob.glob(os.path.join(product_path,'*GRD*.zip'),recursive=True)))\n",
    "input_s1_files = [input_s1_files[-1]]"
   ]
  },
  {
   "cell_type": "code",
   "execution_count": 10,
   "id": "cf485270-5d26-4530-80ee-09d6e81cbfbe",
   "metadata": {},
   "outputs": [
    {
     "name": "stdout",
     "output_type": "stream",
     "text": [
      "D:\\08 aimagin\\satellite image project\\sar\\S1A_IW_GRDH_1SDV_20210705T113611_20210705T113636_038642_048F4E_C9F7.zip\n"
     ]
    },
    {
     "data": {
      "text/html": [
       "<div>\n",
       "<style scoped>\n",
       "    .dataframe tbody tr th:only-of-type {\n",
       "        vertical-align: middle;\n",
       "    }\n",
       "\n",
       "    .dataframe tbody tr th {\n",
       "        vertical-align: top;\n",
       "    }\n",
       "\n",
       "    .dataframe thead th {\n",
       "        text-align: right;\n",
       "    }\n",
       "</style>\n",
       "<table border=\"1\" class=\"dataframe\">\n",
       "  <thead>\n",
       "    <tr style=\"text-align: right;\">\n",
       "      <th></th>\n",
       "      <th>Name</th>\n",
       "      <th>Sensing mode</th>\n",
       "      <th>Product type</th>\n",
       "      <th>Polarization</th>\n",
       "      <th>Height</th>\n",
       "      <th>Width</th>\n",
       "      <th>Band names</th>\n",
       "    </tr>\n",
       "  </thead>\n",
       "  <tbody>\n",
       "    <tr>\n",
       "      <th>0</th>\n",
       "      <td>S1A_IW_GRDH_1SDV_20210705T113611_20210705T1136...</td>\n",
       "      <td>1SDV</td>\n",
       "      <td>20210705T113611</td>\n",
       "      <td>1SDV</td>\n",
       "      <td>16793</td>\n",
       "      <td>25399</td>\n",
       "      <td>[Amplitude_VH, Intensity_VH, Amplitude_VV, Int...</td>\n",
       "    </tr>\n",
       "  </tbody>\n",
       "</table>\n",
       "</div>"
      ],
      "text/plain": [
       "                                                Name Sensing mode  \\\n",
       "0  S1A_IW_GRDH_1SDV_20210705T113611_20210705T1136...         1SDV   \n",
       "\n",
       "      Product type Polarization  Height  Width  \\\n",
       "0  20210705T113611         1SDV   16793  25399   \n",
       "\n",
       "                                          Band names  \n",
       "0  [Amplitude_VH, Intensity_VH, Amplitude_VV, Int...  "
      ]
     },
     "metadata": {},
     "output_type": "display_data"
    }
   ],
   "source": [
    "name, sensing_mode, product_type, polarization, height, width, band_names = ([] for i in range(7))\n",
    "for i in input_s1_files:\n",
    "    if 'GRDH' not in i:\n",
    "        continue\n",
    "    print(i)\n",
    "    sensing_mode.append(i.split('_')[3])\n",
    "    product_type.append(i.split('_')[4])\n",
    "    polarization.append(i.split('_')[-6])\n",
    "    s1_read = snappy.ProductIO.readProduct(i)\n",
    "    name.append(s1_read.getName())\n",
    "    height.append(s1_read.getSceneRasterHeight())\n",
    "    width.append(s1_read.getSceneRasterWidth())\n",
    "    band_names.append(s1_read.getBandNames())\n",
    "    if polarization[0][2:4]== 'DV':\n",
    "        pols = 'VH,VV'\n",
    "    \n",
    "df_s1_read = pd.DataFrame({'Name':name,\n",
    "                          'Sensing mode':sensing_mode,\n",
    "                          'Product type':product_type,\n",
    "                          'Polarization':polarization,\n",
    "                          'Height':height,\n",
    "                          'Width':width,\n",
    "                          'Band names':band_names})\n",
    "display(df_s1_read)"
   ]
  },
  {
   "cell_type": "code",
   "execution_count": 11,
   "id": "93ee1751-edbe-4dea-9c7a-b9cb07553d97",
   "metadata": {},
   "outputs": [
    {
     "name": "stdout",
     "output_type": "stream",
     "text": [
      "\tApply orbit file...\n",
      "\tThermal noise removal...\n",
      "\tCalibration...\n",
      "different polarization!\n",
      "\tSpeckle filtering...\n",
      "\tTerrain correction...\n"
     ]
    }
   ],
   "source": [
    "orbit = do_apply_orbit_file(s1_read)\n",
    "thermal = do_thermal_noise_removal(orbit)\n",
    "calibrate = do_calibration(thermal, polarization, pols)\n",
    "filtered = do_speckle_filtering(calibrate)\n",
    "\n",
    "x, y, width, height = 9500,100,5000,3000\n",
    "subset2 = get_subset_product(filtered,x,y,width,height)\n",
    "band_nm = get_band_names(subset2)\n",
    "subset2 = do_terrain_correction(subset2,band_nm, downsample=False)"
   ]
  },
  {
   "cell_type": "code",
   "execution_count": 12,
   "id": "7fcca5c1-977a-4c14-bbb6-f0c29efa661e",
   "metadata": {},
   "outputs": [],
   "source": [
    "band_sigma_vv = project2img(subset2,'Sigma0_VV')"
   ]
  },
  {
   "cell_type": "code",
   "execution_count": 13,
   "id": "da980078-8a2b-4c55-9408-60b841a973eb",
   "metadata": {},
   "outputs": [
    {
     "data": {
      "text/plain": [
       "<matplotlib.image.AxesImage at 0x24036c8ddd8>"
      ]
     },
     "execution_count": 13,
     "metadata": {},
     "output_type": "execute_result"
    }
   ],
   "source": [
    "plt.figure()\n",
    "plt.imshow(band_sigma_vv,cmap='gray',vmin=1e-4,vmax=0.7)"
   ]
  },
  {
   "cell_type": "code",
   "execution_count": 75,
   "id": "f761e3a6-6196-4161-99fb-4603769e3727",
   "metadata": {},
   "outputs": [],
   "source": [
    "# mask = band_sigma_vv.copy()\n",
    "# plt.hist(mask.flatten(),range=(1e-4,0.7),bins=20)"
   ]
  },
  {
   "cell_type": "code",
   "execution_count": 14,
   "id": "f16d3795-bc7b-4b70-9f27-dad501bf75ad",
   "metadata": {},
   "outputs": [
    {
     "data": {
      "text/plain": [
       "<matplotlib.image.AxesImage at 0x24039e935c0>"
      ]
     },
     "execution_count": 14,
     "metadata": {},
     "output_type": "execute_result"
    }
   ],
   "source": [
    "mask = band_sigma_vv.copy()\n",
    "\n",
    "thr_max = 0.07\n",
    "thr_min = 1e-4\n",
    "mask[mask==0]=thr_max\n",
    "mask[mask>=thr_max] = thr_max\n",
    "mask[mask<=thr_min] = thr_min\n",
    "# mask[mask==thr_max] = thr_min\n",
    "\n",
    "plt.figure()\n",
    "plt.imshow(mask,cmap='gray',vmin=thr_min,vmax=thr_max)\n",
    "# plt.hist(mask[mask!=0].flatten(),range=(5,2e4))"
   ]
  },
  {
   "cell_type": "code",
   "execution_count": 15,
   "id": "3553aa01-593a-4680-a520-32029097c559",
   "metadata": {},
   "outputs": [],
   "source": [
    "from sklearn.cluster import KMeans"
   ]
  },
  {
   "cell_type": "code",
   "execution_count": 16,
   "id": "8aac83b7-6e6f-4548-9ca3-4e2a366a3e05",
   "metadata": {},
   "outputs": [],
   "source": [
    "# mask[mask==0]=1e5\n",
    "kmeans = KMeans(n_clusters=2, random_state=0).fit(mask.reshape(-1,1))"
   ]
  },
  {
   "cell_type": "code",
   "execution_count": 17,
   "id": "fe2dc09a-9ed0-406b-b74d-f8526c8ef5a2",
   "metadata": {},
   "outputs": [],
   "source": [
    "water_mask = kmeans.labels_.reshape(mask.shape)"
   ]
  },
  {
   "cell_type": "code",
   "execution_count": 18,
   "id": "7ad34003-2f72-4774-a420-05d5a3a2022b",
   "metadata": {},
   "outputs": [
    {
     "data": {
      "text/plain": [
       "<matplotlib.image.AxesImage at 0x24041002e10>"
      ]
     },
     "execution_count": 18,
     "metadata": {},
     "output_type": "execute_result"
    }
   ],
   "source": [
    "plt.figure()\n",
    "plt.imshow(water_mask,cmap='gray')"
   ]
  },
  {
   "cell_type": "code",
   "execution_count": 21,
   "id": "48faee56-f6a5-4930-8b82-554fd5f5b3fd",
   "metadata": {},
   "outputs": [
    {
     "data": {
      "text/plain": [
       "'D:\\\\08 aimagin\\\\satellite image project\\\\sar'"
      ]
     },
     "execution_count": 21,
     "metadata": {},
     "output_type": "execute_result"
    }
   ],
   "source": [
    "product_path"
   ]
  },
  {
   "cell_type": "code",
   "execution_count": 23,
   "id": "18add83c-b87b-46e4-abd1-1784c3f98316",
   "metadata": {},
   "outputs": [
    {
     "data": {
      "text/plain": [
       "True"
      ]
     },
     "execution_count": 23,
     "metadata": {},
     "output_type": "execute_result"
    }
   ],
   "source": [
    "water_mask[water_mask==1]=255\n",
    "cv2.imwrite(os.path.join(product_path,'mask_unclear.png'),water_mask)"
   ]
  },
  {
   "cell_type": "code",
   "execution_count": 86,
   "id": "91189513-0a94-4f69-864f-2d32abb2868c",
   "metadata": {},
   "outputs": [],
   "source": [
    "water_mask[water_mask==0]=5\n",
    "water_mask[water_mask==1]=0\n",
    "water_mask[water_mask==5]=1"
   ]
  },
  {
   "cell_type": "code",
   "execution_count": 87,
   "id": "3caa7bde-1878-4b90-85a6-10832afcf86d",
   "metadata": {},
   "outputs": [],
   "source": [
    "h,w = water_mask.shape"
   ]
  },
  {
   "cell_type": "code",
   "execution_count": 88,
   "id": "19fa89da-b658-4321-9c7d-00bc338183d6",
   "metadata": {},
   "outputs": [],
   "source": [
    "mask1 = water_mask.copy()\n",
    "mask1[mask1==1]=255\n",
    "_,a,b,_ = cv2.floodFill(mask1, None, (0,0), 128);"
   ]
  },
  {
   "cell_type": "code",
   "execution_count": 90,
   "id": "a6ed3c5e-19a6-427a-9007-bfab4c538d90",
   "metadata": {},
   "outputs": [
    {
     "data": {
      "text/plain": [
       "<matplotlib.image.AxesImage at 0x1a1fc049978>"
      ]
     },
     "execution_count": 90,
     "metadata": {},
     "output_type": "execute_result"
    }
   ],
   "source": [
    "plt.figure()\n",
    "plt.imshow(mask1,cmap='gray')"
   ]
  },
  {
   "cell_type": "code",
   "execution_count": null,
   "id": "d6551eb1-e54f-407b-bfd0-dc57a1602d8b",
   "metadata": {},
   "outputs": [],
   "source": [
    "\n",
    "# cnts = cv2.findContours(mask2,cv2.RETR_CCOMP,cv2.CHAIN_APPROX_SIMPLE)"
   ]
  },
  {
   "cell_type": "code",
   "execution_count": null,
   "id": "dff892cd-9550-4d46-9a85-798fc14effcf",
   "metadata": {},
   "outputs": [],
   "source": []
  },
  {
   "cell_type": "code",
   "execution_count": null,
   "id": "837f0e6a-a9ae-43eb-ad55-482789a8a462",
   "metadata": {},
   "outputs": [],
   "source": []
  },
  {
   "cell_type": "code",
   "execution_count": 92,
   "id": "5897db0b-4501-4825-85fc-435381f59380",
   "metadata": {},
   "outputs": [],
   "source": [
    "def filling_ground(msk,idx1,idx2,diff,val):\n",
    "    for i,j in zip(idx1,idx2):\n",
    "        if (msk[i,j-diff] == val) or ((msk[i,j+diff] == val)) or (msk[i-diff,j] == val) or (msk[i+diff,j] == val):\n",
    "            cv2.floodFill(msk, None, (j,i), val)\n",
    "            idx1,idx2 = np.where(msk==0)\n",
    "            repeat=True\n",
    "            break\n",
    "        else:\n",
    "            repeat=False\n",
    "    return msk, idx1, idx2, repeat"
   ]
  },
  {
   "cell_type": "code",
   "execution_count": 93,
   "id": "f8a22041-6a99-4a63-94a7-9250af9cd63d",
   "metadata": {},
   "outputs": [],
   "source": [
    "diff=20\n",
    "ix1,ix2 = np.where(mask1 == 0)\n",
    "repeat =True\n",
    "while repeat:\n",
    "    mask1, ix1, ix2, repeat = filling_ground(mask1,ix1,ix2,diff,128)"
   ]
  },
  {
   "cell_type": "code",
   "execution_count": 94,
   "id": "ad5b6f5c-b9f2-4592-baed-6e7ca16144ed",
   "metadata": {},
   "outputs": [],
   "source": [
    "mask2 = mask1.copy()\n",
    "mask2[mask2==0]=255\n",
    "mask2[mask2==128]=0\n",
    "mask2[mask2==255]=1\n",
    "mask2.astype(np.uint8);"
   ]
  },
  {
   "cell_type": "code",
   "execution_count": 513,
   "id": "a30e4651-0da3-4569-bf2f-8340e77e9fd7",
   "metadata": {},
   "outputs": [],
   "source": []
  },
  {
   "cell_type": "code",
   "execution_count": 95,
   "id": "55571820-21a1-40a4-9f91-a5d390f2bdb8",
   "metadata": {},
   "outputs": [],
   "source": [
    "cnts = cv2.findContours(mask2,cv2.RETR_CCOMP,cv2.CHAIN_APPROX_SIMPLE)\n",
    "mask2[mask2==1]=255\n",
    "for cnt in cnts[0]:\n",
    "    if (cnt[:,0,0]>4700).all() and (cnt[:,0,1]<2185).all() :\n",
    "#     if (cnts[0][0][:,0,0]>4700).all():\n",
    "#         print()\n",
    "        cv2.drawContours(mask2,[cnt],0,255,-1)\n",
    "#     else:\n",
    "#         cv2.drawContours(mask2,[cnt],0,128,-1)\n",
    "        "
   ]
  },
  {
   "cell_type": "code",
   "execution_count": 96,
   "id": "02340f6e-d3ae-41b3-a4b0-3eb00b4a61f4",
   "metadata": {},
   "outputs": [
    {
     "data": {
      "text/plain": [
       "<matplotlib.image.AxesImage at 0x1a1fe4720b8>"
      ]
     },
     "execution_count": 96,
     "metadata": {},
     "output_type": "execute_result"
    }
   ],
   "source": [
    "plt.figure()\n",
    "plt.imshow(mask2,cmap='gray')"
   ]
  },
  {
   "cell_type": "code",
   "execution_count": 97,
   "id": "5418625e-49f2-4a03-9359-aee7b615e336",
   "metadata": {},
   "outputs": [],
   "source": [
    "mask3 = mask2[0:2185,4700:].copy()\n",
    "mask3[mask3==255]=1\n",
    "mask3 = mask3.astype(np.uint8)\n",
    "kernel = np.ones((3,3),np.uint8)\n",
    "mask3 = cv2.dilate(mask3,kernel,iterations=3)"
   ]
  },
  {
   "cell_type": "code",
   "execution_count": 98,
   "id": "5b0b5089-2be8-4803-8014-dc2e29951535",
   "metadata": {},
   "outputs": [
    {
     "data": {
      "text/plain": [
       "((2185, 873), array([0, 1], dtype=uint8))"
      ]
     },
     "execution_count": 98,
     "metadata": {},
     "output_type": "execute_result"
    }
   ],
   "source": [
    "mask3.shape,np.unique(mask3)"
   ]
  },
  {
   "cell_type": "code",
   "execution_count": 99,
   "id": "21dc6000-7f5d-493e-8990-5d3c4722f9a3",
   "metadata": {},
   "outputs": [],
   "source": [
    "mask2[mask2==255]=1\n",
    "mask2[0:2185,4700:] = mask3.copy()"
   ]
  },
  {
   "cell_type": "code",
   "execution_count": 100,
   "id": "ecad9ded-a317-4420-bec4-b963eadd983d",
   "metadata": {},
   "outputs": [],
   "source": [
    "cnts = cv2.findContours(mask2,cv2.RETR_CCOMP,cv2.CHAIN_APPROX_SIMPLE)"
   ]
  },
  {
   "cell_type": "code",
   "execution_count": 101,
   "id": "6262b0fe-9e1b-4cb4-93f5-ae00634fe691",
   "metadata": {},
   "outputs": [],
   "source": [
    "contour_area = [cv2.contourArea(cnt) for cnt in cnts[0]]"
   ]
  },
  {
   "cell_type": "code",
   "execution_count": 123,
   "id": "63f44de0-fbde-46e1-a138-15483f97e54a",
   "metadata": {},
   "outputs": [
    {
     "data": {
      "text/plain": [
       "<matplotlib.image.AxesImage at 0x1a1fff4c2b0>"
      ]
     },
     "execution_count": 123,
     "metadata": {},
     "output_type": "execute_result"
    }
   ],
   "source": [
    "plt.figure()\n",
    "plt.imshow(mask2,cmap='gray')"
   ]
  },
  {
   "cell_type": "code",
   "execution_count": 111,
   "id": "0594f19d-3063-4d44-9201-9675edb519a4",
   "metadata": {},
   "outputs": [
    {
     "data": {
      "text/plain": [
       "<matplotlib.image.AxesImage at 0x1a1fc018c50>"
      ]
     },
     "execution_count": 111,
     "metadata": {},
     "output_type": "execute_result"
    }
   ],
   "source": [
    "plt.figure()\n",
    "plt.imshow(tmp)"
   ]
  },
  {
   "cell_type": "code",
   "execution_count": 268,
   "id": "e1abad55-fc27-4552-a679-5f34a3fa4a17",
   "metadata": {},
   "outputs": [],
   "source": [
    "def specific_dilate(msk,x1,x2,y1,y2,kernel_size,iterate):\n",
    "    ## TO DILATE WHITE AREA\n",
    "    tmp = msk[y1:y2,x1:x2].copy().astype(np.uint8)\n",
    "    kernel = np.ones((kernel_size,kernel_size),dtype=np.uint8)\n",
    "    tmp2 = cv2.dilate(tmp.copy(),kernel,iterations=iterate)\n",
    "    fig = plt.figure()\n",
    "    fig.add_subplot(1,2,1)\n",
    "    plt.imshow(tmp,cmap='gray')\n",
    "    fig.add_subplot(1,2,2)\n",
    "    plt.imshow(tmp2,cmap='gray')\n",
    "    return tmp2\n",
    "\n",
    "def specific_erode(msk,x1,x2,y1,y2,kernel_size,iterate):\n",
    "    ## TO ERODE WHITE AREA\n",
    "    tmp = msk[y1:y2,x1:x2].copy().astype(np.uint8)\n",
    "    kernel = np.ones((kernel_size,kernel_size),dtype=np.uint8)\n",
    "    tmp2 = cv2.erode(tmp.copy(),kernel,iterations=iterate)\n",
    "    fig = plt.figure()\n",
    "    fig.add_subplot(1,2,1)\n",
    "    plt.imshow(tmp,cmap='gray')\n",
    "    fig.add_subplot(1,2,2)\n",
    "    plt.imshow(tmp2,cmap='gray')\n",
    "    return tmp2\n",
    "\n",
    "# mask2[0:300,4800:5050] = tmp.copy()"
   ]
  },
  {
   "cell_type": "code",
   "execution_count": 133,
   "id": "cdfad898-d970-4a64-a49c-7de1a4fb3a01",
   "metadata": {},
   "outputs": [],
   "source": [
    "x1,x2,y1,y2 = 4800,5050,0,300\n",
    "tmp = specific_dilate(mask2,x1,x2,y1,y2,kernel_size=3,iterate=3)\n",
    "# mask2[y1:y2,x1:x2]=tmp.copy()\n",
    "x1,x2,y1,y2 = 5150,54000,1975,2100\n",
    "tmp = specific_dilate(mask2,x1,x2,y1,y2,kernel_size=7,iterate=3)\n",
    "# mask2[y1:y2,x1:x2]=tmp.copy()"
   ]
  },
  {
   "cell_type": "code",
   "execution_count": null,
   "id": "65b7f77d-a063-43ef-a9e8-831d006f86ab",
   "metadata": {},
   "outputs": [],
   "source": []
  },
  {
   "cell_type": "code",
   "execution_count": 189,
   "id": "1b02a139-a94e-4882-abde-cab9680b8fb8",
   "metadata": {},
   "outputs": [
    {
     "data": {
      "text/plain": [
       "<matplotlib.image.AxesImage at 0x1a2ada56ba8>"
      ]
     },
     "execution_count": 189,
     "metadata": {},
     "output_type": "execute_result"
    }
   ],
   "source": [
    "plt.figure()\n",
    "plt.imshow(mask2,cmap='gray')"
   ]
  },
  {
   "cell_type": "code",
   "execution_count": 197,
   "id": "a708f4aa-b0a5-40fa-b51a-7dcd66cbcfe1",
   "metadata": {},
   "outputs": [
    {
     "data": {
      "text/plain": [
       "array([[ 662, 3939],\n",
       "       [ 661, 3940],\n",
       "       [ 660, 3939],\n",
       "       [ 661, 3938]], dtype=int32)"
      ]
     },
     "execution_count": 197,
     "metadata": {},
     "output_type": "execute_result"
    }
   ],
   "source": [
    "cnts[0][10][:,0,:]"
   ]
  },
  {
   "cell_type": "code",
   "execution_count": 222,
   "id": "3f92693a-4bb2-4810-89f8-bef59b5ee68d",
   "metadata": {},
   "outputs": [
    {
     "data": {
      "text/plain": [
       "4888"
      ]
     },
     "execution_count": 222,
     "metadata": {},
     "output_type": "execute_result"
    }
   ],
   "source": [
    "cnt[:,0,:][0][0]"
   ]
  },
  {
   "cell_type": "code",
   "execution_count": 223,
   "id": "b8a02082-dc4b-4d4f-b317-cc462a930f80",
   "metadata": {},
   "outputs": [],
   "source": [
    "pixel_in_contour = [mask3[cnt[:,0,:][0][1],cnt[:,0,:][0][0]] for cnt in cnts[0]]"
   ]
  },
  {
   "cell_type": "code",
   "execution_count": 239,
   "id": "f383237c-cdc7-42ed-91b0-74045b0a7982",
   "metadata": {},
   "outputs": [
    {
     "data": {
      "text/plain": [
       "1"
      ]
     },
     "execution_count": 239,
     "metadata": {},
     "output_type": "execute_result"
    }
   ],
   "source": [
    "pixel_in_contour[13963]"
   ]
  },
  {
   "cell_type": "code",
   "execution_count": 240,
   "id": "0dad67b1-3f94-4797-9d9b-043697a64ded",
   "metadata": {},
   "outputs": [],
   "source": [
    "contour_area = [cv2.contourArea(cnt) for cnt in cnts[0]]"
   ]
  },
  {
   "cell_type": "code",
   "execution_count": 242,
   "id": "cd0b96d9-54ec-4d55-a453-32a4cf8aa8bf",
   "metadata": {},
   "outputs": [],
   "source": [
    "# contour_area[13963]"
   ]
  },
  {
   "cell_type": "code",
   "execution_count": 235,
   "id": "308c40f9-9d07-4f13-b778-60880bb7f666",
   "metadata": {},
   "outputs": [
    {
     "data": {
      "text/plain": [
       "5032"
      ]
     },
     "execution_count": 235,
     "metadata": {},
     "output_type": "execute_result"
    }
   ],
   "source": [
    "len(np.where(np.asarray(pixel_in_contour)==1)[0])"
   ]
  },
  {
   "cell_type": "code",
   "execution_count": 245,
   "id": "ffc945de-7f50-4eed-b12a-b23b1678a604",
   "metadata": {},
   "outputs": [],
   "source": [
    "from datetime import datetime"
   ]
  },
  {
   "cell_type": "code",
   "execution_count": 250,
   "id": "33457455-46fa-452d-92e0-6514f7d89d8a",
   "metadata": {},
   "outputs": [
    {
     "name": "stdout",
     "output_type": "stream",
     "text": [
      "2021-07-23 00:35:39.320799\n",
      "2021-07-23 01:00:21.297503\n",
      "1481.976704\n"
     ]
    }
   ],
   "source": [
    "mask3 = mask2.copy()\n",
    "# mask3[mask3==1]=255\n",
    "cnts = cv2.findContours(mask3,cv2.RETR_CCOMP,cv2.CHAIN_APPROX_SIMPLE)\n",
    "tm1 = datetime.now()\n",
    "print(tm1)\n",
    "for i in range(len(cnts[0])):\n",
    "    imgx = np.zeros_like(mask3)\n",
    "    cv2.drawContours(imgx,cnts[0], i, 1, -1);\n",
    "    ix,iy = np.where(imgx==1)\n",
    "    if mask3[ix[0],iy[0]] == 0: #ถ้าเป็นดินอยู่แล้วไม่ต้องเติม\n",
    "        continue\n",
    "    elif (ix.min()<3000<ix.max()) and (iy.min()<2000<iy.max()):\n",
    "        continue\n",
    "    else:\n",
    "        cv2.drawContours(mask3,cnts[0], i, 0, -1);\n",
    "tm2 = datetime.now()\n",
    "print(tm2)\n",
    "print((tm2-tm1).total_seconds())\n",
    "\n",
    "        \n",
    "# mask3[mask3==255]=0\n",
    "# mask3[mask3==128]=1"
   ]
  },
  {
   "cell_type": "code",
   "execution_count": 255,
   "id": "470f10f5-1a43-47f3-ba88-498c51e94390",
   "metadata": {},
   "outputs": [],
   "source": [
    "mask3_tmp = mask3.copy()\n",
    "mask3_tmp[mask3_tmp==1]=255"
   ]
  },
  {
   "cell_type": "code",
   "execution_count": 256,
   "id": "697f12f7-7db4-441f-9707-7696aaefa16a",
   "metadata": {},
   "outputs": [
    {
     "data": {
      "text/plain": [
       "True"
      ]
     },
     "execution_count": 256,
     "metadata": {},
     "output_type": "execute_result"
    }
   ],
   "source": [
    "cv2.imwrite(os.path.join(product_path,'mask_after_removecity.png'),mask3_tmp)"
   ]
  },
  {
   "cell_type": "code",
   "execution_count": 257,
   "id": "f9bcd62e-d21d-4663-b3e2-a8dcac84ccb1",
   "metadata": {},
   "outputs": [
    {
     "data": {
      "text/plain": [
       "<matplotlib.image.AxesImage at 0x1a1febc3940>"
      ]
     },
     "execution_count": 257,
     "metadata": {},
     "output_type": "execute_result"
    }
   ],
   "source": [
    "plt.figure()\n",
    "plt.imshow(mask3,cmap='gray')"
   ]
  },
  {
   "cell_type": "code",
   "execution_count": 266,
   "id": "3e0dc6db-746a-436d-839e-eb769958d0b8",
   "metadata": {},
   "outputs": [],
   "source": [
    "tmp = mask3[800:1150,1600:1900].copy().astype(np.uint8)\n",
    "# plt.figure()\n",
    "# plt.imshow(tmp)"
   ]
  },
  {
   "cell_type": "code",
   "execution_count": null,
   "id": "4a7ee432-c707-4763-b76c-4965836d03d9",
   "metadata": {},
   "outputs": [],
   "source": [
    "specific_dilate"
   ]
  },
  {
   "cell_type": "code",
   "execution_count": 277,
   "id": "6151d03d-860f-4953-af90-7cb42c4165ab",
   "metadata": {},
   "outputs": [],
   "source": [
    "x1,x2,y1,y2 = 1600,1900,800,1050\n",
    "tmp = specific_erode(mask3,x1,x2,y1,y2,3,4);\n",
    "mask3[y1:y2,x1:x2]=tmp.copy()"
   ]
  },
  {
   "cell_type": "code",
   "execution_count": 282,
   "id": "fae5e744-4145-44b2-9192-66b756e70d47",
   "metadata": {},
   "outputs": [],
   "source": [
    "x1,x2,y1,y2 = 1600,1900,1060,1125\n",
    "tmp = specific_erode(mask3,x1,x2,y1,y2,3,2);\n",
    "mask3[y1:y2,x1:x2]=tmp.copy()"
   ]
  },
  {
   "cell_type": "code",
   "execution_count": 286,
   "id": "8753f0b9-a6d2-413c-a450-d7080a195e71",
   "metadata": {},
   "outputs": [],
   "source": [
    "x1,x2,y1,y2 = 4400,4750,2200,2400\n",
    "tmp = specific_dilate(mask3,x1,x2,y1,y2,3,3);\n",
    "mask3[y1:y2,x1:x2]=tmp.copy()"
   ]
  },
  {
   "cell_type": "code",
   "execution_count": 292,
   "id": "34f8859d-2014-42ae-b940-bfc9037e5759",
   "metadata": {},
   "outputs": [],
   "source": [
    "x1,x2,y1,y2 = 5150,5350,2150,2450\n",
    "tmp = specific_dilate(mask3,x1,x2,y1,y2,3,3);\n",
    "mask3[y1:y2,x1:x2]=tmp.copy()"
   ]
  },
  {
   "cell_type": "code",
   "execution_count": 296,
   "id": "728967bb-3a4b-4427-926b-5260b259a75f",
   "metadata": {},
   "outputs": [],
   "source": [
    "x1,x2,y1,y2 = 3800,3840,2980,3020\n",
    "tmp = specific_dilate(mask3,x1,x2,y1,y2,3,2);\n",
    "mask3[y1:y2,x1:x2]=tmp.copy()"
   ]
  },
  {
   "cell_type": "code",
   "execution_count": 303,
   "id": "b275621b-be42-4479-9133-0aaf834d79c6",
   "metadata": {},
   "outputs": [],
   "source": [
    "tmp = mask3.copy()\n",
    "cv2.floodFill(tmp,None,(3807,3007),1)\n",
    "cv2.floodFill(tmp,None,(3828,2992),1)\n",
    "plt.figure()\n",
    "plt.imshow(tmp,cmap='gray')\n",
    "mask3 = tmp.copy()"
   ]
  },
  {
   "cell_type": "code",
   "execution_count": 312,
   "id": "025ac2b3-4df0-487e-9192-9d64195054c9",
   "metadata": {},
   "outputs": [],
   "source": [
    "x1,x2,y1,y2 = 3800,4000,2900,3100\n",
    "tmp = specific_erode(mask3,x1,x2,y1,y2,7,4);\n",
    "mask3[y1:y2,x1:x2]=tmp.copy()"
   ]
  },
  {
   "cell_type": "code",
   "execution_count": 320,
   "id": "a7b8e1f6-74c1-4300-b119-1477cf70f0e9",
   "metadata": {},
   "outputs": [
    {
     "data": {
      "text/plain": [
       "(2106,\n",
       " array([[0, 0, 0, ..., 0, 0, 0],\n",
       "        [0, 0, 0, ..., 0, 0, 0],\n",
       "        [0, 0, 0, ..., 0, 0, 0],\n",
       "        ...,\n",
       "        [0, 0, 0, ..., 0, 0, 0],\n",
       "        [0, 0, 0, ..., 0, 0, 0],\n",
       "        [0, 0, 0, ..., 0, 0, 0]]),\n",
       " None,\n",
       " (2619, 3132, 90, 126))"
      ]
     },
     "execution_count": 320,
     "metadata": {},
     "output_type": "execute_result"
    }
   ],
   "source": [
    "cv2.floodFill(mask3,None,(3977,2862),0)\n",
    "cv2.floodFill(mask3,None,(863,1632),1)\n",
    "cv2.floodFill(mask3,None,(917,1600),1)\n",
    "cv2.floodFill(mask3,None,(974,1558),1)\n",
    "cv2.floodFill(mask3,None,(2660,3198),1)\n",
    "# plt.figure()\n",
    "# plt.imshow(mask3,cmap='gray')"
   ]
  },
  {
   "cell_type": "code",
   "execution_count": 328,
   "id": "e95adfc8-e1f8-44c8-8d78-b995ff27dbd8",
   "metadata": {},
   "outputs": [],
   "source": [
    "x1,x2,y1,y2 = 1750,2000,2650,2950\n",
    "tmp = specific_dilate(mask3,x1,x2,y1,y2,5,2);\n",
    "mask3[y1:y2,x1:x2]=tmp.copy()"
   ]
  },
  {
   "cell_type": "code",
   "execution_count": 336,
   "id": "4107fd3b-3f4e-47d2-bd1c-e501f33e1694",
   "metadata": {},
   "outputs": [
    {
     "data": {
      "text/plain": [
       "(22,\n",
       " array([[0, 0, 0, ..., 0, 0, 0],\n",
       "        [0, 0, 0, ..., 0, 0, 0],\n",
       "        [0, 0, 0, ..., 0, 0, 0],\n",
       "        ...,\n",
       "        [0, 0, 0, ..., 0, 0, 0],\n",
       "        [0, 0, 0, ..., 0, 0, 0],\n",
       "        [0, 0, 0, ..., 0, 0, 0]]),\n",
       " None,\n",
       " (2557, 3172, 4, 7))"
      ]
     },
     "execution_count": 336,
     "metadata": {},
     "output_type": "execute_result"
    }
   ],
   "source": [
    "cv2.floodFill(mask3,None,(2541,3174),1)\n",
    "cv2.floodFill(mask3,None,(2557,3174),1)"
   ]
  },
  {
   "cell_type": "code",
   "execution_count": 343,
   "id": "eafc9f38-093b-4c22-94f0-594263a89f63",
   "metadata": {},
   "outputs": [],
   "source": [
    "x1,x2,y1,y2 = 700,1500,700,1800\n",
    "tmp = specific_erode(mask3,x1,x2,y1,y2,7,4);\n",
    "mask3[y1:y2,x1:x2]=tmp.copy()"
   ]
  },
  {
   "cell_type": "code",
   "execution_count": 360,
   "id": "90a9eb70-fa94-4772-b4fc-fbfe4e244ea1",
   "metadata": {},
   "outputs": [],
   "source": [
    "x1,x2,y1,y2 = 1100,2600,2600,3800\n",
    "tmp = specific_erode(mask3,x1,x2,y1,y2,7,7);\n",
    "mask3[y1:y2,x1:x2]=tmp.copy()"
   ]
  },
  {
   "cell_type": "code",
   "execution_count": null,
   "id": "3936ea19-5c03-4365-9735-47cff3283818",
   "metadata": {},
   "outputs": [],
   "source": []
  },
  {
   "cell_type": "code",
   "execution_count": 361,
   "id": "c23027b7-8558-419d-8979-9cda04bbeba5",
   "metadata": {},
   "outputs": [
    {
     "data": {
      "text/plain": [
       "<matplotlib.image.AxesImage at 0x1a370b9e940>"
      ]
     },
     "execution_count": 361,
     "metadata": {},
     "output_type": "execute_result"
    }
   ],
   "source": [
    "plt.figure()\n",
    "plt.imshow(mask3,cmap='gray')"
   ]
  },
  {
   "cell_type": "code",
   "execution_count": 362,
   "id": "2e37467e-0645-4cb7-a0a1-fab26c01cce5",
   "metadata": {},
   "outputs": [],
   "source": [
    "x1,y1 = 1579,695\n",
    "x2,y2 = 5371,2158\n",
    "m = (y2-y1)/(x2-x1)\n",
    "c = y2-m*x2"
   ]
  },
  {
   "cell_type": "code",
   "execution_count": 363,
   "id": "a5a5f2c9-d711-4bea-a73f-b14d3f1d7ae8",
   "metadata": {},
   "outputs": [
    {
     "name": "stdout",
     "output_type": "stream",
     "text": [
      "2014.863660337553\n"
     ]
    }
   ],
   "source": [
    "xi,yi = 5000,2000\n",
    "print(m*xi+c)"
   ]
  },
  {
   "cell_type": "code",
   "execution_count": 364,
   "id": "d3a38ce9-2436-4f1b-aa9f-b0648f19f2f0",
   "metadata": {},
   "outputs": [
    {
     "data": {
      "text/plain": [
       "2014.863660337553"
      ]
     },
     "execution_count": 364,
     "metadata": {},
     "output_type": "execute_result"
    }
   ],
   "source": [
    "m*xi+c"
   ]
  },
  {
   "cell_type": "code",
   "execution_count": 365,
   "id": "0f6addeb-3563-49fd-a9a2-ee5475cc9600",
   "metadata": {},
   "outputs": [],
   "source": [
    "tmp = mask3.copy()\n",
    "for i in range(tmp.shape[0]):\n",
    "    for j in range(tmp.shape[1]):\n",
    "        if i < m*j+c:\n",
    "            tmp[i,j]=0"
   ]
  },
  {
   "cell_type": "code",
   "execution_count": 366,
   "id": "a911ac62-da19-4155-b33b-32c60a5e1877",
   "metadata": {},
   "outputs": [
    {
     "data": {
      "text/plain": [
       "<matplotlib.image.AxesImage at 0x1a372d89940>"
      ]
     },
     "execution_count": 366,
     "metadata": {},
     "output_type": "execute_result"
    }
   ],
   "source": [
    "plt.figure()\n",
    "plt.imshow(tmp,cmap='gray')"
   ]
  },
  {
   "cell_type": "code",
   "execution_count": 367,
   "id": "13a34bf6-6c7a-4eb1-8e0c-88e373b70174",
   "metadata": {},
   "outputs": [
    {
     "data": {
      "text/plain": [
       "True"
      ]
     },
     "execution_count": 367,
     "metadata": {},
     "output_type": "execute_result"
    }
   ],
   "source": [
    "tmp[tmp==1]=255\n",
    "fl_name =r'D:\\08 aimagin\\satellite image project\\sar\\gulf_mask_SAR.png'\n",
    "cv2.imwrite(fl_name,tmp)"
   ]
  },
  {
   "cell_type": "markdown",
   "id": "8b18a2d4-96d3-40c0-81d5-98d0b24da3d7",
   "metadata": {},
   "source": [
    "## edit water mask"
   ]
  },
  {
   "cell_type": "code",
   "execution_count": 78,
   "id": "e7aae266-7ad3-4471-8691-6d1261dd9be5",
   "metadata": {},
   "outputs": [],
   "source": [
    "mask1 = cv2.imread(os.path.join(product_path,'mask_unclear.png'),0)\n",
    "mask2 = cv2.imread(os.path.join(product_path,'gulf_mask_SAR.png'),0)"
   ]
  },
  {
   "cell_type": "code",
   "execution_count": 31,
   "id": "49bb0f6a-0f0f-4456-bb45-8bac9fc11022",
   "metadata": {},
   "outputs": [
    {
     "data": {
      "text/plain": [
       "<matplotlib.image.AxesImage at 0x240585b76d8>"
      ]
     },
     "execution_count": 31,
     "metadata": {},
     "output_type": "execute_result"
    }
   ],
   "source": [
    "fig = plt.figure()\n",
    "fig.add_subplot(1,2,1)\n",
    "plt.imshow(mask1,cmap='gray')\n",
    "fig.add_subplot(1,2,2)\n",
    "plt.imshow(mask2,cmap='gray')"
   ]
  },
  {
   "cell_type": "code",
   "execution_count": 63,
   "id": "0a302db2-975a-4f27-bf01-2616da42e6a7",
   "metadata": {},
   "outputs": [],
   "source": [
    "cv2.floodFill(mask1,None,(3188,2430),255);"
   ]
  },
  {
   "cell_type": "code",
   "execution_count": 92,
   "id": "b3777703-0095-4683-aec8-01bd32ad8448",
   "metadata": {},
   "outputs": [
    {
     "data": {
      "text/plain": [
       "<matplotlib.image.AxesImage at 0x240cf546d30>"
      ]
     },
     "execution_count": 92,
     "metadata": {},
     "output_type": "execute_result"
    }
   ],
   "source": [
    "plt.figure()\n",
    "plt.imshow(mask1,cmap='gray')"
   ]
  },
  {
   "cell_type": "code",
   "execution_count": 91,
   "id": "02e96cd1-1a9a-4a23-ac97-49504e2d7fa8",
   "metadata": {},
   "outputs": [
    {
     "data": {
      "text/plain": [
       "<matplotlib.image.AxesImage at 0x240cf4a1668>"
      ]
     },
     "execution_count": 91,
     "metadata": {},
     "output_type": "execute_result"
    }
   ],
   "source": [
    "plt.figure()\n",
    "plt.imshow(img1,cmap='gray')"
   ]
  },
  {
   "cell_type": "code",
   "execution_count": 64,
   "id": "8005846f-3ec4-4de1-b54b-ac66392d8629",
   "metadata": {},
   "outputs": [
    {
     "data": {
      "text/plain": [
       "<matplotlib.image.AxesImage at 0x240913ef400>"
      ]
     },
     "execution_count": 64,
     "metadata": {},
     "output_type": "execute_result"
    }
   ],
   "source": [
    "kernel_size = 2\n",
    "kernel = np.ones((kernel_size,kernel_size),dtype=np.uint8)\n",
    "y1,y2,x1,x2 = 2400,2500,3125,3250\n",
    "img1 = mask1[y1:y2,x1:x2].copy()\n",
    "img1 = img1.astype(np.uint8)\n",
    "fig = plt.figure()\n",
    "fig.add_subplot(1,2,1)\n",
    "plt.imshow(img1,cmap='gray')\n",
    "img1 = cv2.dilate(img1,kernel,iterations=3)\n",
    "img1[img1==255]=128\n",
    "fig.add_subplot(1,2,2)\n",
    "plt.imshow(img1,cmap='gray')"
   ]
  },
  {
   "cell_type": "code",
   "execution_count": 65,
   "id": "6c70e3d5-3345-452b-864f-a1dc0f8ca522",
   "metadata": {},
   "outputs": [
    {
     "data": {
      "text/plain": [
       "<matplotlib.image.AxesImage at 0x240a177c320>"
      ]
     },
     "execution_count": 65,
     "metadata": {},
     "output_type": "execute_result"
    }
   ],
   "source": [
    "mask1[mask1==1]=255\n",
    "mask1[y1:y2,x1:x2] = img1\n",
    "plt.figure()\n",
    "plt.imshow(mask1,cmap='gray')"
   ]
  },
  {
   "cell_type": "code",
   "execution_count": 59,
   "id": "0ba73d4f-05a2-4b54-b2a4-1c99ddb947ae",
   "metadata": {},
   "outputs": [],
   "source": [
    "ix_gray = np.where(mask1 == 128)"
   ]
  },
  {
   "cell_type": "code",
   "execution_count": 84,
   "id": "b9369218-150d-4c02-bb6e-8591c37ea724",
   "metadata": {},
   "outputs": [
    {
     "data": {
      "text/plain": [
       "<matplotlib.image.AxesImage at 0x240ae35f710>"
      ]
     },
     "execution_count": 84,
     "metadata": {},
     "output_type": "execute_result"
    }
   ],
   "source": [
    "tmp = mask2.copy()\n",
    "kernel_size = 3\n",
    "kernel = np.ones((kernel_size,kernel_size),dtype=np.uint8)\n",
    "tmp = cv2.erode(tmp,kernel,iterations=4)\n",
    "tmp[ix_gray] = 0\n",
    "fig = plt.figure()\n",
    "fig.add_subplot(1,2,1)\n",
    "plt.imshow(mask2,cmap='gray')\n",
    "fig.add_subplot(1,2,2)\n",
    "plt.imshow(tmp,cmap='gray')"
   ]
  },
  {
   "cell_type": "code",
   "execution_count": 81,
   "id": "ece09a10-7d84-4655-aadc-0a3872034b90",
   "metadata": {},
   "outputs": [],
   "source": [
    "cnts = cv2.findContours(tmp,cv2.RETR_CCOMP,cv2.CHAIN_APPROX_SIMPLE)"
   ]
  },
  {
   "cell_type": "code",
   "execution_count": 98,
   "id": "461eae95-9c90-4096-afac-febf3e6a3a65",
   "metadata": {},
   "outputs": [],
   "source": [
    "mask2 = tmp.copy()"
   ]
  },
  {
   "cell_type": "code",
   "execution_count": 97,
   "id": "2a5a9728-74ce-4736-8eb7-48e32f0fa463",
   "metadata": {},
   "outputs": [
    {
     "data": {
      "text/plain": [
       "<matplotlib.image.AxesImage at 0x240cfafa8d0>"
      ]
     },
     "execution_count": 97,
     "metadata": {},
     "output_type": "execute_result"
    }
   ],
   "source": [
    "plt.figure()\n",
    "plt.imshow(tmp)"
   ]
  },
  {
   "cell_type": "code",
   "execution_count": 88,
   "id": "431a5f1c-682c-4339-97ee-f1ee71d52b81",
   "metadata": {},
   "outputs": [],
   "source": [
    "mask\n",
    "tmp2 = tmp*band_sigma_vv"
   ]
  },
  {
   "cell_type": "code",
   "execution_count": 96,
   "id": "17943dd0-97d5-404d-8411-9232800a74d4",
   "metadata": {},
   "outputs": [
    {
     "data": {
      "text/plain": [
       "<matplotlib.image.AxesImage at 0x240cfa4e550>"
      ]
     },
     "execution_count": 96,
     "metadata": {},
     "output_type": "execute_result"
    }
   ],
   "source": [
    "plt.figure()\n",
    "plt.imshow(tmp2,cmap='gray',vmin=1e-4,vmax=20)"
   ]
  },
  {
   "cell_type": "code",
   "execution_count": 95,
   "id": "02b8ccca-0e5f-4ada-9386-1881b79fe2c1",
   "metadata": {},
   "outputs": [
    {
     "data": {
      "text/plain": [
       "<matplotlib.image.AxesImage at 0x240cf7ef8d0>"
      ]
     },
     "execution_count": 95,
     "metadata": {},
     "output_type": "execute_result"
    }
   ],
   "source": [
    "mask1[mask1==1]=255\n",
    "plt.figure()\n",
    "plt.imshow(mask1,cmap='gray')"
   ]
  },
  {
   "cell_type": "code",
   "execution_count": 101,
   "id": "71717955-1840-4e92-a01b-949ca02d8d45",
   "metadata": {},
   "outputs": [],
   "source": [
    "# mask1"
   ]
  },
  {
   "cell_type": "code",
   "execution_count": 104,
   "id": "853d57da-32e5-4d15-bca2-44e59c3e750c",
   "metadata": {},
   "outputs": [
    {
     "data": {
      "text/plain": [
       "<matplotlib.image.AxesImage at 0x240cf19df60>"
      ]
     },
     "execution_count": 104,
     "metadata": {},
     "output_type": "execute_result"
    }
   ],
   "source": [
    "tmp = mask1.copy()\n",
    "cv2.floodFill(tmp,None,(2661,3196),128)\n",
    "cv2.floodFill(tmp,None,(2603,3183),128)\n",
    "plt.figure()\n",
    "plt.imshow(tmp,cmap='gray')"
   ]
  },
  {
   "cell_type": "code",
   "execution_count": 105,
   "id": "93d91e7b-ec98-4eb2-86ca-0af99ceaad0e",
   "metadata": {},
   "outputs": [],
   "source": [
    "ix = np.where(tmp==128)\n",
    "mask2[ix]=0"
   ]
  },
  {
   "cell_type": "code",
   "execution_count": 111,
   "id": "13da783c-11f9-4026-9433-fef547da43ee",
   "metadata": {},
   "outputs": [
    {
     "data": {
      "text/plain": [
       "array([  0, 255], dtype=uint8)"
      ]
     },
     "execution_count": 111,
     "metadata": {},
     "output_type": "execute_result"
    }
   ],
   "source": []
  },
  {
   "cell_type": "code",
   "execution_count": 118,
   "id": "eab26384-20ad-4cf1-b079-cfcc3c1b4b3c",
   "metadata": {},
   "outputs": [
    {
     "data": {
      "text/plain": [
       "<matplotlib.image.AxesImage at 0x2410821aeb8>"
      ]
     },
     "execution_count": 118,
     "metadata": {},
     "output_type": "execute_result"
    }
   ],
   "source": [
    "cv2.floodFill(mask2,None,(2646,3231),0)\n",
    "cv2.floodFill(mask2,None,(2638,3237),0)\n",
    "# mask2[3235:3241,2634:2640]=0\n",
    "# mask2[3235:3241,2634:2640]=0\n",
    "mask2[3218:3221,2655:2658]=0\n",
    "plt.figure()\n",
    "plt.imshow(mask2,cmap='gray')"
   ]
  },
  {
   "cell_type": "code",
   "execution_count": 110,
   "id": "3606dc8a-adca-48b2-98dd-18130fe7273a",
   "metadata": {},
   "outputs": [
    {
     "data": {
      "text/plain": [
       "<matplotlib.image.AxesImage at 0x240ae53f390>"
      ]
     },
     "execution_count": 110,
     "metadata": {},
     "output_type": "execute_result"
    }
   ],
   "source": [
    "plt.figure()\n",
    "plt.imshow(mask2,cmap='gray')"
   ]
  },
  {
   "cell_type": "code",
   "execution_count": 119,
   "id": "a9284ce8-d64b-4a6f-ad03-65f6280764dd",
   "metadata": {},
   "outputs": [
    {
     "data": {
      "text/plain": [
       "<matplotlib.image.AxesImage at 0x240f990ca20>"
      ]
     },
     "execution_count": 119,
     "metadata": {},
     "output_type": "execute_result"
    }
   ],
   "source": [
    "tmp2 = mask2*band_sigma_vv\n",
    "plt.figure()\n",
    "plt.imshow(tmp2,cmap='gray',vmin=1e-4,vmax=20)"
   ]
  },
  {
   "cell_type": "code",
   "execution_count": 121,
   "id": "442e520d-3f2b-42ec-a54d-5e077b41348e",
   "metadata": {},
   "outputs": [
    {
     "data": {
      "text/plain": [
       "True"
      ]
     },
     "execution_count": 121,
     "metadata": {},
     "output_type": "execute_result"
    }
   ],
   "source": [
    "cv2.imwrite(os.path.join(product_path,'gulf_mask_SAR2.png'),mask2)"
   ]
  },
  {
   "cell_type": "code",
   "execution_count": null,
   "id": "d11d5ddd-ffd7-4ee1-8132-b68956847a58",
   "metadata": {},
   "outputs": [],
   "source": []
  }
 ],
 "metadata": {
  "kernelspec": {
   "display_name": "Python 3",
   "language": "python",
   "name": "python3"
  },
  "language_info": {
   "codemirror_mode": {
    "name": "ipython",
    "version": 3
   },
   "file_extension": ".py",
   "mimetype": "text/x-python",
   "name": "python",
   "nbconvert_exporter": "python",
   "pygments_lexer": "ipython3",
   "version": "3.6.13"
  }
 },
 "nbformat": 4,
 "nbformat_minor": 5
}
